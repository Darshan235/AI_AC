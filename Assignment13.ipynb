{
  "nbformat": 4,
  "nbformat_minor": 0,
  "metadata": {
    "colab": {
      "provenance": [],
      "authorship_tag": "ABX9TyMO36dYB3DuBJ1JOsoRPDP+",
      "include_colab_link": true
    },
    "kernelspec": {
      "name": "python3",
      "display_name": "Python 3"
    },
    "language_info": {
      "name": "python"
    }
  },
  "cells": [
    {
      "cell_type": "markdown",
      "metadata": {
        "id": "view-in-github",
        "colab_type": "text"
      },
      "source": [
        "<a href=\"https://colab.research.google.com/github/Darshan235/AI_AC/blob/main/Assignment13.ipynb\" target=\"_parent\"><img src=\"https://colab.research.google.com/assets/colab-badge.svg\" alt=\"Open In Colab\"/></a>"
      ]
    },
    {
      "cell_type": "markdown",
      "source": [
        "#Task 1"
      ],
      "metadata": {
        "id": "ctH8xJNj21TH"
      }
    },
    {
      "cell_type": "code",
      "metadata": {
        "colab": {
          "base_uri": "https://localhost:8080/"
        },
        "id": "5cec7a82",
        "outputId": "a914d1b0-e5c3-42cf-cfc5-7194142948fd"
      },
      "source": [
        "def calculate_area_refactored(shape, x, y=0):\n",
        "    \"\"\"Calculates the area of different shapes using a dictionary-based approach.\"\"\"\n",
        "\n",
        "    area_calculators = {\n",
        "        \"rectangle\": lambda x, y: x * y,\n",
        "        \"square\": lambda x, y: x * x,\n",
        "        \"circle\": lambda x, y: 3.14 * x * x  # Using approximate value for pi\n",
        "    }\n",
        "\n",
        "    if shape in area_calculators:\n",
        "        if shape == \"rectangle\":\n",
        "            return area_calculators[shape](x, y)\n",
        "        else:\n",
        "            return area_calculators[shape](x, None) # y is not needed for square or circle\n",
        "    else:\n",
        "        return \"Invalid shape\"\n",
        "\n",
        "# User-based program\n",
        "while True:\n",
        "    shape_input = input(\"Enter the shape (rectangle, square, circle) or 'quit' to exit: \").lower()\n",
        "\n",
        "    if shape_input == 'quit':\n",
        "        break\n",
        "\n",
        "    if shape_input in [\"rectangle\", \"square\", \"circle\"]:\n",
        "        try:\n",
        "            if shape_input == \"rectangle\":\n",
        "                x_input = float(input(f\"Enter the length of the {shape_input}: \"))\n",
        "                y_input = float(input(f\"Enter the width of the {shape_input}: \"))\n",
        "                area = calculate_area_refactored(shape_input, x_input, y_input)\n",
        "            elif shape_input == \"square\":\n",
        "                x_input = float(input(f\"Enter the side length of the {shape_input}: \"))\n",
        "                area = calculate_area_refactored(shape_input, x_input)\n",
        "            elif shape_input == \"circle\":\n",
        "                x_input = float(input(f\"Enter the radius of the {shape_input}: \"))\n",
        "                area = calculate_area_refactored(shape_input, x_input)\n",
        "\n",
        "            print(f\"The area of the {shape_input} is: {area}\")\n",
        "\n",
        "        except ValueError:\n",
        "            print(\"Invalid input. Please enter numeric values for dimensions.\")\n",
        "    else:\n",
        "        print(\"Invalid shape. Please enter rectangle, square, or circle.\")"
      ],
      "execution_count": 2,
      "outputs": [
        {
          "name": "stdout",
          "output_type": "stream",
          "text": [
            "Enter the shape (rectangle, square, circle) or 'quit' to exit: square\n",
            "Enter the side length of the square: 34\n",
            "The area of the square is: 1156.0\n",
            "Enter the shape (rectangle, square, circle) or 'quit' to exit: quit\n"
          ]
        }
      ]
    },
    {
      "cell_type": "markdown",
      "source": [
        "#Task 2"
      ],
      "metadata": {
        "id": "kpSvMGIu3zxK"
      }
    },
    {
      "cell_type": "code",
      "metadata": {
        "colab": {
          "base_uri": "https://localhost:8080/"
        },
        "id": "b65f5b6e",
        "outputId": "2dbef7b4-4540-4c7c-e088-76761ca79d97"
      },
      "source": [
        "def read_file_refactored():\n",
        "    \"\"\"Reads a file specified by the user, with error handling.\"\"\"\n",
        "    while True:\n",
        "        filename = input(\"Enter the filename you want to read (or 'quit' to exit): \")\n",
        "        if filename.lower() == 'quit':\n",
        "            break\n",
        "        try:\n",
        "            with open(filename, 'r') as f:\n",
        "                data = f.read()\n",
        "                print(f\"Successfully read '{filename}':\")\n",
        "                print(data)\n",
        "        except FileNotFoundError:\n",
        "            print(f\"Error: File '{filename}' not found.\")\n",
        "        except Exception as e:\n",
        "            print(f\"An error occurred: {e}\")\n",
        "\n",
        "# Run the user-based program\n",
        "read_file_refactored()"
      ],
      "execution_count": 3,
      "outputs": [
        {
          "name": "stdout",
          "output_type": "stream",
          "text": [
            "Enter the filename you want to read (or 'quit' to exit): abc.txt\n",
            "Error: File 'abc.txt' not found.\n",
            "Enter the filename you want to read (or 'quit' to exit): quit\n"
          ]
        }
      ]
    },
    {
      "cell_type": "markdown",
      "source": [
        "#Task 3\n"
      ],
      "metadata": {
        "id": "osVbV1HW37wt"
      }
    },
    {
      "cell_type": "code",
      "metadata": {
        "colab": {
          "base_uri": "https://localhost:8080/"
        },
        "id": "311086f3",
        "outputId": "b5269f0f-71aa-44f4-b76c-1b9a259bba26"
      },
      "source": [
        "class Student:\n",
        "    \"\"\"Represents a student with name, age, and marks in three subjects.\"\"\"\n",
        "\n",
        "    def __init__(self, name, age, mark1, mark2, mark3):\n",
        "        \"\"\"Initializes a new Student object.\n",
        "\n",
        "        Args:\n",
        "            name (str): The name of the student.\n",
        "            age (int): The age of the student.\n",
        "            mark1 (int): The mark in the first subject.\n",
        "            mark2 (int): The mark in the second subject.\n",
        "            mark3 (int): The mark in the third subject.\n",
        "        \"\"\"\n",
        "        self.name = name\n",
        "        self.age = age\n",
        "        self.marks = [mark1, mark2, mark3]\n",
        "\n",
        "    def details(self):\n",
        "        \"\"\"Prints the details of the student.\"\"\"\n",
        "        print(f\"Student Name: {self.name}, Age: {self.age}\")\n",
        "\n",
        "    def total_marks(self):\n",
        "        \"\"\"Calculates and returns the total marks of the student.\"\"\"\n",
        "        return sum(self.marks)\n",
        "\n",
        "# User-based program\n",
        "while True:\n",
        "    print(\"\\nEnter student details (or 'quit' to exit):\")\n",
        "    name_input = input(\"Enter student name: \")\n",
        "    if name_input.lower() == 'quit':\n",
        "        break\n",
        "\n",
        "    try:\n",
        "        age_input = int(input(\"Enter student age: \"))\n",
        "        mark1_input = int(input(\"Enter mark for subject 1: \"))\n",
        "        mark2_input = int(input(\"Enter mark for subject 2: \"))\n",
        "        mark3_input = int(input(\"Enter mark for subject 3: \"))\n",
        "\n",
        "        student = Student(name_input, age_input, mark1_input, mark2_input, mark3_input)\n",
        "\n",
        "        student.details()\n",
        "        print(f\"Total Marks: {student.total_marks()}\")\n",
        "\n",
        "    except ValueError:\n",
        "        print(\"Invalid input. Please enter numeric values for age and marks.\")"
      ],
      "execution_count": 4,
      "outputs": [
        {
          "name": "stdout",
          "output_type": "stream",
          "text": [
            "\n",
            "Enter student details (or 'quit' to exit):\n",
            "Enter student name: darshan\n",
            "Enter student age: 20\n",
            "Enter mark for subject 1: 15\n",
            "Enter mark for subject 2: 19\n",
            "Enter mark for subject 3: 14\n",
            "Student Name: darshan, Age: 20\n",
            "Total Marks: 48\n",
            "\n",
            "Enter student details (or 'quit' to exit):\n",
            "Enter student name: quit\n"
          ]
        }
      ]
    },
    {
      "cell_type": "markdown",
      "source": [
        "#Task 4"
      ],
      "metadata": {
        "id": "P086etNF3-to"
      }
    },
    {
      "cell_type": "code",
      "metadata": {
        "colab": {
          "base_uri": "https://localhost:8080/"
        },
        "id": "7b856c7b",
        "outputId": "5deb1331-70db-44c6-d4ea-b9d00f1436d1"
      },
      "source": [
        "nums = [1, 2, 3, 4, 5, 6, 7, 8, 9, 10]\n",
        "\n",
        "# Refactored using a list comprehension\n",
        "squares = [i * i for i in nums]\n",
        "\n",
        "print(squares)"
      ],
      "execution_count": 5,
      "outputs": [
        {
          "output_type": "stream",
          "name": "stdout",
          "text": [
            "[1, 4, 9, 16, 25, 36, 49, 64, 81, 100]\n"
          ]
        }
      ]
    }
  ]
}