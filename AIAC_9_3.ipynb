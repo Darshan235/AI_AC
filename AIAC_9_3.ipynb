{
  "nbformat": 4,
  "nbformat_minor": 0,
  "metadata": {
    "colab": {
      "provenance": []
    },
    "kernelspec": {
      "name": "python3",
      "display_name": "Python 3"
    },
    "language_info": {
      "name": "python"
    }
  },
  "cells": [
    {
      "cell_type": "markdown",
      "source": [
        "#Task 1"
      ],
      "metadata": {
        "id": "9ezlkuPIzQuL"
      }
    },
    {
      "cell_type": "code",
      "metadata": {
        "id": "92b8c5b8"
      },
      "source": [
        "def sum_even_odd(numbers):\n",
        "  even_sum = 0\n",
        "  odd_sum = 0\n",
        "  for number in numbers:\n",
        "    if number % 2 == 0:\n",
        "      even_sum += number\n",
        "    else:\n",
        "      odd_sum += number\n",
        "  return even_sum, odd_sum"
      ],
      "execution_count": 1,
      "outputs": []
    },
    {
      "cell_type": "code",
      "source": [
        "\"\"\" MANUAL\n",
        "This is a function that calculates the sum of even and odd numbers in a list\n",
        "it takes a list as an argument and returns the sum of total number even and odd number present in that list \"\"\""
      ],
      "metadata": {
        "id": "ZqHXPRw7zZOV"
      },
      "execution_count": null,
      "outputs": []
    },
    {
      "cell_type": "code",
      "source": [
        "\"\"\"Calculates the sum of even and odd numbers in a list.\n",
        "Args:\n",
        "numbers: A list of integers.\n",
        "\n",
        "Returns:\n",
        "  A tuple containing the sum of even numbers and the sum of odd numbers.\n",
        "\"\"\""
      ],
      "metadata": {
        "id": "VhPUXl_sz7u6"
      },
      "execution_count": null,
      "outputs": []
    },
    {
      "cell_type": "markdown",
      "source": [
        "#Task 2\n"
      ],
      "metadata": {
        "id": "7zVKpxdI0V0S"
      }
    },
    {
      "cell_type": "code",
      "metadata": {
        "id": "983ba1ba"
      },
      "source": [
        "class sru_student:\n",
        "  \"\"\"Represents a student at SRU.\n",
        "\n",
        "  Attributes:\n",
        "    name: The name of the student.\n",
        "    roll_no: The roll number of the student.\n",
        "    hostel_status: The hostel status of the student (e.g., 'resident', 'non-resident').\n",
        "    fee_paid: The amount of fees paid by the student.\n",
        "  \"\"\"\n",
        "\n",
        "  def __init__(self, name, roll_no, hostel_status):\n",
        "    self.name = name\n",
        "    self.roll_no = roll_no\n",
        "    self.hostel_status = hostel_status\n",
        "    self.fee_paid = 0  # Initialize fee paid to 0\n",
        "\n",
        "  def fee_update(self, amount):\n",
        "    \"\"\"Updates the amount of fees paid by the student.\"\"\"\n",
        "    self.fee_paid += amount\n",
        "    print(f\"Fee updated for {self.name}. Total fee paid: {self.fee_paid}\")\n",
        "\n",
        "  def display_details(self):\n",
        "    \"\"\"Displays the details of the student.\"\"\"\n",
        "    print(\"Student Details:\")\n",
        "    print(f\"Name: {self.name}\")\n",
        "    print(f\"Roll No.: {self.roll_no}\")\n",
        "    print(f\"Hostel Status: {self.hostel_status}\")\n",
        "    print(f\"Fees Paid: {self.fee_paid}\")"
      ],
      "execution_count": 2,
      "outputs": []
    },
    {
      "cell_type": "code",
      "source": [
        "\"\"\"\n",
        "Created an class for sru_student\n",
        "in init it has these attributes:\n",
        "  name\n",
        "  roll_no\n",
        "  hostel_status\n",
        "  fee_paid\n",
        "in fee_update function it update the fee paid\n",
        "\n",
        "in display_details function it display the details of the student\n",
        "\"\"\""
      ],
      "metadata": {
        "id": "EnxGvc2904Ya"
      },
      "execution_count": null,
      "outputs": []
    },
    {
      "cell_type": "markdown",
      "source": [
        "#Task 3"
      ],
      "metadata": {
        "id": "TU2IeQI91pQM"
      }
    },
    {
      "cell_type": "code",
      "metadata": {
        "id": "6ddc7552"
      },
      "source": [
        "\"\"\"This module provides basic arithmetic operations (add, subtract, multiply, divide).\"\"\"\n",
        "\n",
        "def add(x, y):\n",
        "  \"\"\"Adds two numbers.\n",
        "\n",
        "  Args:\n",
        "    x: The first number.\n",
        "    y: The second number.\n",
        "\n",
        "  Returns:\n",
        "    The sum of x and y.\n",
        "  \"\"\"\n",
        "  return x + y\n",
        "\n",
        "def subtract(x, y):\n",
        "  \"\"\"Subtracts the second number from the first.\n",
        "\n",
        "  Args:\n",
        "    x: The first number.\n",
        "    y: The second number.\n",
        "\n",
        "  Returns:\n",
        "    The difference between x and y.\n",
        "  \"\"\"\n",
        "  return x - y\n",
        "\n",
        "def multiply(x, y):\n",
        "  \"\"\"Multiplies two numbers.\n",
        "\n",
        "  Args:\n",
        "    x: The first number.\n",
        "    y: The second number.\n",
        "\n",
        "  Returns:\n",
        "    The product of x and y.\n",
        "  \"\"\"\n",
        "  return x * y\n",
        "\n",
        "def divide(x, y):\n",
        "  \"\"\"Divides the first number by the second.\n",
        "\n",
        "  Args:\n",
        "    x: The numerator.\n",
        "    y: The denominator.\n",
        "\n",
        "  Returns:\n",
        "    The result of the division.\n",
        "\n",
        "  Raises:\n",
        "    ZeroDivisionError: If the denominator is zero.\n",
        "  \"\"\"\n",
        "  if y == 0:\n",
        "    raise ZeroDivisionError(\"Cannot divide by zero\")\n",
        "  return x / y"
      ],
      "execution_count": null,
      "outputs": []
    },
    {
      "cell_type": "code",
      "source": [
        "\"\"\"\n",
        "The first function is add function with takes 2 args and return the sum of those two args\n",
        "\n",
        "The second function is subtract function with takes 2 args and return the difference of those two args\n",
        "\n",
        "The third function is multiply function with takes 2 args and return the product of those two args\n",
        "\n",
        "The fourth function is divide function with takes 2 args and return the division of those two args\n",
        "\"\"\""
      ],
      "metadata": {
        "id": "5j6BsOhb1-IM"
      },
      "execution_count": null,
      "outputs": []
    }
  ]
}