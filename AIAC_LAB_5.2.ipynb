{
 "cells": [
  {
   "cell_type": "code",
   "execution_count": null,
   "metadata": {
    "colab": {
     "base_uri": "https://localhost:8080/"
    },
    "executionInfo": {
     "elapsed": 28178,
     "status": "ok",
     "timestamp": 1757435004681,
     "user": {
      "displayName": "Mohammed Mustafa",
      "userId": "09933611949105390110"
     },
     "user_tz": -330
    },
    "id": "FaLK5RdXmuvt",
    "outputId": "69b92f97-b461-476b-ba38-e1750b90ced1"
   },
   "outputs": [
    {
     "name": "stdout",
     "output_type": "stream",
     "text": [
      "Enter your username: Navadeep\n",
      "Enter your password: Deepu566\n",
      "Password accepted.\n",
      "Welcome, Navadeep!\n"
     ]
    }
   ],
   "source": [
    "import re\n",
    "\n",
    "def login_system():\n",
    "    \"\"\"\n",
    "    Generates a simple login system with password requirements.\n",
    "    \"\"\"\n",
    "    username = input(\"Enter your username: \")\n",
    "\n",
    "    while True:\n",
    "        password = input(\"Enter your password: \")\n",
    "\n",
    "        # Check password length\n",
    "        if not (6 <= len(password) <= 10):\n",
    "            print(\"Password must be between 6 and 10 characters long.\")\n",
    "            continue\n",
    "\n",
    "        # Check for at least one uppercase letter\n",
    "        if not re.search(r\"[A-Z]\", password):\n",
    "            print(\"Password must contain at least one uppercase letter.\")\n",
    "            continue\n",
    "\n",
    "        # Check for at least one lowercase letter\n",
    "        if not re.search(r\"[a-z]\", password):\n",
    "            print(\"Password must contain at least one lowercase letter.\")\n",
    "            continue\n",
    "\n",
    "        # Password meets requirements\n",
    "        print(\"Password accepted.\")\n",
    "        break\n",
    "\n",
    "    print(f\"Welcome, {username}!\")\n",
    "\n",
    "login_system()"
   ]
  },
  {
   "cell_type": "code",
   "execution_count": 19,
   "metadata": {
    "colab": {
     "base_uri": "https://localhost:8080/"
    },
    "executionInfo": {
     "elapsed": 33006,
     "status": "ok",
     "timestamp": 1757435111382,
     "user": {
      "displayName": "Mohammed Mustafa",
      "userId": "09933611949105390110"
     },
     "user_tz": -330
    },
    "id": "h74pXUtQpKet",
    "outputId": "3dba9bcd-e367-44f0-ee85-ecda01e88d06"
   },
   "outputs": [
    {
     "name": "stdout",
     "output_type": "stream",
     "text": [
      "Enter your name: M.Navadeep\n",
      "Enter your account number (exactly 10 digits): 9178324917\n",
      "Enter your annual income (e.g., 50000): 60000\n",
      "Enter your credit score (e.g., 700): 660\n",
      "Enter your age: 19\n",
      "Enter the desired loan amount: 50000\n",
      "\n",
      "Loan application details:\n",
      "Name: M.Navadeep\n",
      "Account Number: 9178324917\n",
      "Annual Income: $60000.00\n",
      "Credit Score: 660\n",
      "Age: 19\n",
      "Desired Loan Amount: $50000.00\n",
      "\n",
      "Based on your information, you are eligible to apply for a loan.\n"
     ]
    }
   ],
   "source": [
    "import re\n",
    "\n",
    "def bank_loan_system():\n",
    "    \"\"\"\n",
    "    Develops a simple bank loan system with mandatory conditions.\n",
    "    \"\"\"\n",
    "    name = input(\"Enter your name: \")\n",
    "\n",
    "    while True:\n",
    "        account_number = input(\"Enter your account number (exactly 10 digits): \")\n",
    "        if not re.fullmatch(r\"\\d{10}\", account_number):\n",
    "            print(\"Account number must be exactly 10 digits long.\")\n",
    "            continue\n",
    "        break\n",
    "\n",
    "    while True:\n",
    "        try:\n",
    "            annual_income = float(input(\"Enter your annual income (e.g., 50000): \"))\n",
    "            if annual_income < 20000: # Example condition for annual income\n",
    "                print(\"Annual income must be at least $20,000 to be eligible for a loan.\")\n",
    "                continue\n",
    "            break\n",
    "        except ValueError:\n",
    "            print(\"Invalid input. Please enter a number for annual income.\")\n",
    "\n",
    "    while True:\n",
    "        try:\n",
    "            credit_score = int(input(\"Enter your credit score (e.g., 700): \"))\n",
    "            if credit_score < 600: # Example condition for credit score\n",
    "                print(\"Credit score must be at least 600 to be eligible for a loan.\")\n",
    "                continue\n",
    "            break\n",
    "        except ValueError:\n",
    "            print(\"Invalid input. Please enter an integer for credit score.\")\n",
    "\n",
    "    while True:\n",
    "        try:\n",
    "            age = int(input(\"Enter your age: \"))\n",
    "            if age <= 18:\n",
    "                print(\"You must be over 18 to be eligible for a loan.\")\n",
    "                continue\n",
    "            break\n",
    "        except ValueError:\n",
    "            print(\"Invalid input. Please enter an integer for your age.\")\n",
    "\n",
    "    while True:\n",
    "        try:\n",
    "            loan_amount = float(input(\"Enter the desired loan amount: \"))\n",
    "            break\n",
    "        except ValueError:\n",
    "            print(\"Invalid input. Please enter a number for the loan amount.\")\n",
    "\n",
    "    # If all mandatory conditions are met\n",
    "    print(\"\\nLoan application details:\")\n",
    "    print(f\"Name: {name}\")\n",
    "    print(f\"Account Number: {account_number}\")\n",
    "    print(f\"Annual Income: ${annual_income:.2f}\")\n",
    "    print(f\"Credit Score: {credit_score}\")\n",
    "    print(f\"Age: {age}\")\n",
    "    print(f\"Desired Loan Amount: ${loan_amount:.2f}\")\n",
    "    print(\"\\nBased on your information, you are eligible to apply for a loan.\")\n",
    "\n",
    "bank_loan_system()"
   ]
  },
  {
   "cell_type": "code",
   "execution_count": 4,
   "metadata": {
    "colab": {
     "base_uri": "https://localhost:8080/"
    },
    "executionInfo": {
     "elapsed": 24286,
     "status": "ok",
     "timestamp": 1757427832034,
     "user": {
      "displayName": "Mohammed Mustafa",
      "userId": "09933611949105390110"
     },
     "user_tz": -330
    },
    "id": "5End-Tprwkke",
    "outputId": "ecdd6de4-f353-4e27-8820-566ada80e5cb"
   },
   "outputs": [
    {
     "name": "stdout",
     "output_type": "stream",
     "text": [
      "Enter a single number to calculate its Fibonacci series: 7\n",
      "Fibonacci series for 7:\n",
      "0 1 1 2 3 5 8 13 \n"
     ]
    }
   ],
   "source": [
    "def fibonacci(n):\n",
    "    \"\"\"\n",
    "    Calculates the nth Fibonacci number recursively.\n",
    "\n",
    "    Args:\n",
    "        n: The index of the Fibonacci number to calculate (non-negative integer).\n",
    "\n",
    "    Returns:\n",
    "        The nth Fibonacci number.\n",
    "    \"\"\"\n",
    "    # Base cases: Fibonacci of 0 is 0, Fibonacci of 1 is 1\n",
    "    if n <= 1:\n",
    "        return n\n",
    "    else:\n",
    "        # Recursive step: Fibonacci(n) = Fibonacci(n-1) + Fibonacci(n-2)\n",
    "        return fibonacci(n-1) + fibonacci(n-2)\n",
    "\n",
    "def calculate_fibonacci_of_single_number():\n",
    "    \"\"\"\n",
    "    Takes a single number as input from the user and calculates its Fibonacci series up to that number.\n",
    "    \"\"\"\n",
    "    while True:\n",
    "        try:\n",
    "            # Get input from the user and convert it to an integer\n",
    "            num = int(input(\"Enter a single number to calculate its Fibonacci series: \"))\n",
    "            break # Exit the loop if input is a valid integer\n",
    "        except ValueError:\n",
    "            # Handle cases where the input is not a valid integer\n",
    "            print(\"Invalid input. Please enter an integer.\")\n",
    "\n",
    "    # Check if the input number is negative\n",
    "    if num < 0:\n",
    "        print(\"Fibonacci series is not defined for negative numbers.\")\n",
    "    else:\n",
    "        # Print the Fibonacci series up to the given number\n",
    "        print(f\"Fibonacci series for {num}:\")\n",
    "        # Iterate from 0 to the input number (inclusive)\n",
    "        for i in range(num + 1):\n",
    "            # Calculate and print each Fibonacci number in the series\n",
    "            print(fibonacci(i), end=\" \") # Use end=\" \" to print on the same line\n",
    "        print() # Print a newline character at the end\n",
    "\n",
    "# Call the function to start the Fibonacci calculation process\n",
    "calculate_fibonacci_of_single_number()"
   ]
  },
  {
   "cell_type": "code",
   "execution_count": 20,
   "metadata": {
    "colab": {
     "base_uri": "https://localhost:8080/"
    },
    "executionInfo": {
     "elapsed": 34127,
     "status": "ok",
     "timestamp": 1757435198788,
     "user": {
      "displayName": "Mohammed Mustafa",
      "userId": "09933611949105390110"
     },
     "user_tz": -330
    },
    "id": "E3aNYM-p4-uS",
    "outputId": "1f9cdcf9-d692-4e3a-ea93-4729f989666d"
   },
   "outputs": [
    {
     "name": "stdout",
     "output_type": "stream",
     "text": [
      "Job Applicant Scoring System\n",
      "------------------------------\n",
      "Enter applicant's name: M.Navadeep\n",
      "Enter qualifications (e.g., Bachelor's, Master's): Master's\n",
      "Enter CGPA: 6.4\n",
      "Enter years of experience: 2\n",
      "Enter applicant's age: 24\n",
      "Evaluate soft skills on a scale of 1 to 5 (1 being poor, 5 being excellent):\n",
      "Communication skills score (1-5): 4\n",
      "Engaging with teammates score (1-5): 3\n",
      "Leadership skills score (1-5): 3\n",
      "\n",
      "Applicant Score:\n",
      "Name: M.Navadeep\n",
      "Score: 8.33/10\n",
      "Decision: Hired\n"
     ]
    }
   ],
   "source": [
    "def score_applicant():\n",
    "    \"\"\"\n",
    "    Creates a job applicant scoring system based on user input.\n",
    "    \"\"\"\n",
    "    print(\"Job Applicant Scoring System\")\n",
    "    print(\"-\" * 30)\n",
    "\n",
    "    # Get applicant details from user\n",
    "    name = input(\"Enter applicant's name: \")\n",
    "\n",
    "    # Get qualifications input\n",
    "    while True:\n",
    "        qualifications = input(\"Enter qualifications (e.g., Bachelor's, Master's): \").lower()\n",
    "        if qualifications:\n",
    "            break\n",
    "        else:\n",
    "            print(\"Qualifications cannot be empty.\")\n",
    "\n",
    "    # Get CGPA input if applicable\n",
    "    cgpa = None\n",
    "    if \"bachelor\" in qualifications or \"master\" in qualifications:\n",
    "        while True:\n",
    "            try:\n",
    "                cgpa = float(input(\"Enter CGPA: \"))\n",
    "                if 0 <= cgpa <= 10: # Assuming CGPA is on a scale of 0 to 10\n",
    "                    break\n",
    "                else:\n",
    "                    print(\"CGPA must be between 0 and 10.\")\n",
    "            except ValueError:\n",
    "                print(\"Invalid input. Please enter a number for CGPA.\")\n",
    "\n",
    "\n",
    "    # Get experience input\n",
    "    while True:\n",
    "        try:\n",
    "            experience = int(input(\"Enter years of experience: \"))\n",
    "            if experience >= 0:\n",
    "                break\n",
    "            else:\n",
    "                print(\"Experience cannot be negative.\")\n",
    "        except ValueError:\n",
    "            print(\"Invalid input. Please enter a number for years of experience.\")\n",
    "\n",
    "    # Get age input\n",
    "    while True:\n",
    "        try:\n",
    "            age = int(input(\"Enter applicant's age: \"))\n",
    "            if age > 0:\n",
    "                break\n",
    "            else:\n",
    "                print(\"Age must be a positive number.\")\n",
    "        except ValueError:\n",
    "            print(\"Invalid input. Please enter a number for age.\")\n",
    "\n",
    "    # Get soft skills input\n",
    "    print(\"Evaluate soft skills on a scale of 1 to 5 (1 being poor, 5 being excellent):\")\n",
    "    while True:\n",
    "        try:\n",
    "            communication_score = int(input(\"Communication skills score (1-5): \"))\n",
    "            if 1 <= communication_score <= 5:\n",
    "                break\n",
    "            else:\n",
    "                print(\"Score must be between 1 and 5.\")\n",
    "        except ValueError:\n",
    "            print(\"Invalid input. Please enter a number between 1 and 5.\")\n",
    "\n",
    "    while True:\n",
    "        try:\n",
    "            engagement_score = int(input(\"Engaging with teammates score (1-5): \"))\n",
    "            if 1 <= engagement_score <= 5:\n",
    "                break\n",
    "            else:\n",
    "                print(\"Score must be between 1 and 5.\")\n",
    "        except ValueError:\n",
    "            print(\"Invalid input. Please enter a number between 1 and 5.\")\n",
    "\n",
    "    while True:\n",
    "        try:\n",
    "            leadership_score = int(input(\"Leadership skills score (1-5): \"))\n",
    "            if 1 <= leadership_score <= 5:\n",
    "                break\n",
    "            else:\n",
    "                print(\"Score must be between 1 and 5.\")\n",
    "        except ValueError:\n",
    "            print(\"Invalid input. Please enter a number between 1 and 5.\")\n",
    "\n",
    "\n",
    "    # Calculate score (up to 10) - simple scoring logic\n",
    "    score = 0\n",
    "\n",
    "    # Qualification and CGPA scoring\n",
    "    if \"master\" in qualifications:\n",
    "        score += 3\n",
    "        if cgpa is not None and cgpa > 7:\n",
    "            score += 1 # Additional point for meeting CGPA requirement\n",
    "    elif \"bachelor\" in qualifications:\n",
    "        score += 2\n",
    "        if cgpa is not None and cgpa > 8:\n",
    "            score += 1 # Additional point for meeting CGPA requirement\n",
    "    elif \"diploma\" in qualifications:\n",
    "        score += 1\n",
    "\n",
    "\n",
    "    if experience >= 5:\n",
    "        score += 3\n",
    "    elif experience >= 2:\n",
    "        score += 2\n",
    "    else:\n",
    "        score += 1\n",
    "\n",
    "    # Simple age consideration (adjust as needed)\n",
    "    if 25 <= age <= 45:\n",
    "        score += 1\n",
    "\n",
    "    score += (communication_score + engagement_score + leadership_score) / 3 # Average soft skills score added\n",
    "\n",
    "    # Cap the score at 10\n",
    "    score = min(score, 10)\n",
    "\n",
    "    print(\"\\nApplicant Score:\")\n",
    "    print(f\"Name: {name}\")\n",
    "    print(f\"Score: {score:.2f}/10\")\n",
    "\n",
    "    # Determine hiring decision\n",
    "    if score > 7:\n",
    "        print(\"Decision: Hired\")\n",
    "    else:\n",
    "        print(\"Decision: Not Hired\")\n",
    "\n",
    "# Run the scoring system\n",
    "score_applicant()"
   ]
  },
  {
   "cell_type": "code",
   "execution_count": 22,
   "metadata": {
    "colab": {
     "base_uri": "https://localhost:8080/"
    },
    "executionInfo": {
     "elapsed": 18292,
     "status": "ok",
     "timestamp": 1757435276917,
     "user": {
      "displayName": "Mohammed Mustafa",
      "userId": "09933611949105390110"
     },
     "user_tz": -330
    },
    "id": "lIBD7LJa6-Wp",
    "outputId": "77eebd3a-e963-4787-f4f6-2a39137a3f03"
   },
   "outputs": [
    {
     "name": "stdout",
     "output_type": "stream",
     "text": [
      "Enter your name: Navadeep\n",
      "Enter your gender (male, female, or other): male\n",
      "hello, Mr. Navadeep ! Welcome\n"
     ]
    }
   ],
   "source": [
    "def greet_user_with_input():\n",
    "    \"\"\"\n",
    "    Greets the user with a title based on their gender, taking input from the user.\n",
    "    Includes male, female, and gender-neutral options.\n",
    "    \"\"\"\n",
    "    name = input(\"Enter your name: \")\n",
    "    gender = input(\"Enter your gender (male, female, or other): \").lower()\n",
    "\n",
    "    if gender == \"male\":\n",
    "        title = \"Mr.\"\n",
    "    elif gender == \"female\":\n",
    "        title = \"Ms.\"\n",
    "    else :\n",
    "        title = \"\" # Neutral title for other cases\n",
    "\n",
    "    print(f\"hello, {title} {name} ! Welcome\")\n",
    "\n",
    "# Call the function to greet the user with input\n",
    "greet_user_with_input()"
   ]
  }
 ],
 "metadata": {
  "colab": {
   "authorship_tag": "ABX9TyNu2x1OzUd4EP2Kwox+1Kns",
   "provenance": []
  },
  "kernelspec": {
   "display_name": "Python 3",
   "name": "python3"
  },
  "language_info": {
   "name": "python"
  }
 },
 "nbformat": 4,
 "nbformat_minor": 0
}
