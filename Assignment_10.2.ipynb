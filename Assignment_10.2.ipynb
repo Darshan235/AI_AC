{
  "nbformat": 4,
  "nbformat_minor": 0,
  "metadata": {
    "colab": {
      "provenance": [],
      "authorship_tag": "ABX9TyM613ozQQd1fRbXCUXe+jzS",
      "include_colab_link": true
    },
    "kernelspec": {
      "name": "python3",
      "display_name": "Python 3"
    },
    "language_info": {
      "name": "python"
    }
  },
  "cells": [
    {
      "cell_type": "markdown",
      "metadata": {
        "id": "view-in-github",
        "colab_type": "text"
      },
      "source": [
        "<a href=\"https://colab.research.google.com/github/Darshan235/AI_AC/blob/main/Assignment_10.2.ipynb\" target=\"_parent\"><img src=\"https://colab.research.google.com/assets/colab-badge.svg\" alt=\"Open In Colab\"/></a>"
      ]
    },
    {
      "cell_type": "markdown",
      "source": [
        "#**10.2**"
      ],
      "metadata": {
        "id": "-lmjEJaGvLMX"
      }
    },
    {
      "cell_type": "markdown",
      "source": [
        "#Task 1"
      ],
      "metadata": {
        "id": "s5bhcUObnr-b"
      }
    },
    {
      "cell_type": "code",
      "source": [
        "def calcFact(n):\n",
        "  result=1\n",
        "  for i in range(1,n+1):\n",
        "    result*=i\n",
        "  return result\n",
        "\n",
        "def main():\n",
        "  num =5\n",
        "  FACT = calcFact(num)\n",
        "  print(\"the factorial of\",num,\"is\",FACT)\n",
        "  t=10\n",
        "  if FACT>t:\n",
        "    print(\"Big Number\")\n",
        "  else:\n",
        "    print(\"Small Number\")\n",
        "main()"
      ],
      "metadata": {
        "colab": {
          "base_uri": "https://localhost:8080/"
        },
        "id": "2qzqKnnPonHN",
        "outputId": "4edd3dcd-36c7-4604-e208-8e14e941b0b4"
      },
      "execution_count": 6,
      "outputs": [
        {
          "output_type": "stream",
          "name": "stdout",
          "text": [
            "the factorial of 5 is 120\n",
            "Big Number\n"
          ]
        }
      ]
    },
    {
      "cell_type": "markdown",
      "source": [
        "1. In calcFact function there is no need of variable x.\n",
        "2. In the same function the range should be from 1 to n+1 to calculate factorial of n otherwise it calculates for n-1\n",
        "3. The calculation part result=result*i could also be written as result*=i which makes the code look cleaner"
      ],
      "metadata": {
        "id": "ea7kniLdpwkk"
      }
    },
    {
      "cell_type": "markdown",
      "source": [
        "#Task 2\n"
      ],
      "metadata": {
        "id": "K8xUk1iKpTpM"
      }
    },
    {
      "cell_type": "code",
      "execution_count": 7,
      "metadata": {
        "colab": {
          "base_uri": "https://localhost:8080/"
        },
        "id": "lccoEJHpnrAd",
        "outputId": "572e07eb-ecda-4a3d-df7e-e2113e2356a5"
      },
      "outputs": [
        {
          "output_type": "stream",
          "name": "stdout",
          "text": [
            "fib series till 10 : [0, 1, 1, 2, 3, 5, 8, 13, 21, 34, 55]\n"
          ]
        }
      ],
      "source": [
        "def f1(xX):\n",
        "  a=0\n",
        "  b=1\n",
        "  fib_series=[a,b]\n",
        "  c=2\n",
        "  while c<=xX:\n",
        "    d=a+b\n",
        "    fib_series.append(d)\n",
        "    a=b\n",
        "    b=d\n",
        "    c=c+1\n",
        "  return fib_series\n",
        "\n",
        "def m():\n",
        "  NN=10\n",
        "  ans=f1(NN)\n",
        "  print(\"fib series till\",NN,\":\",ans)\n",
        "\n",
        "m()"
      ]
    },
    {
      "cell_type": "markdown",
      "source": [
        "1. Changing the name of list from Zz to fib_series which improves understanding of code\n",
        "2. Changing the of function m to main() and variable NN to num\n"
      ],
      "metadata": {
        "id": "lVFuhFZPq8Pw"
      }
    },
    {
      "cell_type": "markdown",
      "source": [
        "#Task 3\n"
      ],
      "metadata": {
        "id": "pYsChkAJtlHA"
      }
    },
    {
      "cell_type": "code",
      "source": [
        "\"\"\"\n",
        "calculator.py\n",
        "\n",
        "This is a simple calculator.\n",
        "It can add, subtract, multiply, and divide two numbers.\n",
        "\"\"\"\n",
        "\n",
        "def add(a, b):\n",
        "    \"\"\"\n",
        "    Adds two numbers together.\n",
        "\n",
        "    Parameters\n",
        "    a : First number.\n",
        "    b : Second number.\n",
        "\n",
        "    Returns\n",
        "    number\n",
        "        The result after adding a and b.\n",
        "    \"\"\"\n",
        "    return a + b\n",
        "\n",
        "\n",
        "def subtract(a, b):\n",
        "    \"\"\"\n",
        "    Subtracts one number from another.\n",
        "\n",
        "    Parameters\n",
        "    a : The number to subtract from.\n",
        "    b : The number to subtract.\n",
        "\n",
        "    Returns\n",
        "    number\n",
        "        The result after subtracting b from a.\n",
        "    \"\"\"\n",
        "    return a - b\n",
        "\n",
        "\n",
        "def multiply(a, b):\n",
        "    \"\"\"\n",
        "    Multiplies two numbers.\n",
        "\n",
        "    Parameters\n",
        "    a : First number.\n",
        "    b : Second number.\n",
        "\n",
        "    Returns\n",
        "    number\n",
        "        The result after multiplying a and b.\n",
        "    \"\"\"\n",
        "    return a * b\n",
        "\n",
        "\n",
        "def divide(a, b):\n",
        "    \"\"\"\n",
        "    Divides one number by another.\n",
        "\n",
        "    Parameters\n",
        "    a : The number to be divided.\n",
        "    b : The number to divide by.\n",
        "\n",
        "    Returns\n",
        "    number\n",
        "        The result after dividing a by b.\n",
        "\n",
        "    Returns\n",
        "    ------\n",
        "    string\n",
        "        An error message if b is zero.\n",
        "    \"\"\"\n",
        "    if b == 0:\n",
        "        return \"You can’t divide by zero!\"\n",
        "    return a / b\n",
        "\n",
        "\n",
        "print(\"Add:\", add(5, 3))\n",
        "print(\"Subtract:\", subtract(5, 3))\n",
        "print(\"Multiply:\", multiply(5, 3))\n",
        "print(\"Divide:\", divide(5, 3))\n"
      ],
      "metadata": {
        "colab": {
          "base_uri": "https://localhost:8080/"
        },
        "id": "6Z3Hzu7itnD3",
        "outputId": "cc3c5834-a38c-4562-f095-443e4d31f7b5"
      },
      "execution_count": 8,
      "outputs": [
        {
          "output_type": "stream",
          "name": "stdout",
          "text": [
            "Add: 8\n",
            "Subtract: 2\n",
            "Multiply: 15\n",
            "Divide: 1.6666666666666667\n"
          ]
        }
      ]
    },
    {
      "cell_type": "code",
      "source": [
        "\"\"\"\n",
        "calculator.py\n",
        "\n",
        "This is a simple calculator.\n",
        "It can add, subtract, multiply, and divide two numbers.\n",
        "\"\"\"\n",
        "\n",
        "def add(a, b):\n",
        "    \"\"\"\n",
        "    Adds two numbers together.\n",
        "\n",
        "    Parameters\n",
        "    ----------\n",
        "    a : int or float\n",
        "        The first number.\n",
        "    b : int or float\n",
        "        The second number.\n",
        "\n",
        "    Returns\n",
        "    -------\n",
        "    int or float\n",
        "        The result of adding a and b.\n",
        "    \"\"\"\n",
        "    return a + b\n",
        "\n",
        "\n",
        "def subtract(a, b):\n",
        "    \"\"\"\n",
        "    Subtracts one number from another.\n",
        "\n",
        "    Parameters\n",
        "    ----------\n",
        "    a : int or float\n",
        "        The number to subtract from.\n",
        "    b : int or float\n",
        "        The number to subtract.\n",
        "\n",
        "    Returns\n",
        "    -------\n",
        "    int or float\n",
        "        The result of subtracting b from a.\n",
        "    \"\"\"\n",
        "    return a - b\n",
        "\n",
        "\n",
        "def multiply(a, b):\n",
        "    \"\"\"\n",
        "    Multiplies two numbers.\n",
        "\n",
        "    Parameters\n",
        "    ----------\n",
        "    a : int or float\n",
        "        The first number.\n",
        "    b : int or float\n",
        "        The second number.\n",
        "\n",
        "    Returns\n",
        "    -------\n",
        "    int or float\n",
        "        The result of multiplying a and b.\n",
        "    \"\"\"\n",
        "    return a * b\n",
        "\n",
        "\n",
        "def divide(a, b):\n",
        "    \"\"\"\n",
        "    Divides one number by another.\n",
        "\n",
        "    Parameters\n",
        "    ----------\n",
        "    a : int or float\n",
        "        The number to be divided.\n",
        "    b : int or float\n",
        "        The number to divide by.\n",
        "\n",
        "    Returns\n",
        "    -------\n",
        "    int or float or str\n",
        "        The result of dividing a by b, or an error message if b is zero.\n",
        "    \"\"\"\n",
        "    if b == 0:\n",
        "        return \"Error: Division by zero is not allowed.\"\n",
        "    return a / b\n",
        "\n",
        "# Example usage\n",
        "print(\"Add:\", add(5, 3))\n",
        "print(\"Subtract:\", subtract(10, 4))\n",
        "print(\"Multiply:\", multiply(6, 7))\n",
        "print(\"Divide:\", divide(20, 5))\n",
        "print(\"Divide by zero:\", divide(10, 0))"
      ],
      "metadata": {
        "colab": {
          "base_uri": "https://localhost:8080/"
        },
        "id": "F7m-xKc2u6p2",
        "outputId": "b3a68589-d3b8-4f0f-efb2-569efb8c22bc"
      },
      "execution_count": 9,
      "outputs": [
        {
          "output_type": "stream",
          "name": "stdout",
          "text": [
            "Add: 8\n",
            "Subtract: 6\n",
            "Multiply: 42\n",
            "Divide: 4.0\n",
            "Divide by zero: Error: Division by zero is not allowed.\n"
          ]
        }
      ]
    }
  ]
}