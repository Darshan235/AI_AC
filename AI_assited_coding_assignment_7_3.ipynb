{
  "nbformat": 4,
  "nbformat_minor": 0,
  "metadata": {
    "colab": {
      "provenance": []
    },
    "kernelspec": {
      "name": "python3",
      "display_name": "Python 3"
    },
    "language_info": {
      "name": "python"
    }
  },
  "cells": [
    {
      "cell_type": "code",
      "execution_count": null,
      "metadata": {
        "id": "wrTVz2M9d-4H"
      },
      "outputs": [],
      "source": []
    },
    {
      "cell_type": "markdown",
      "source": [
        "Task Description#1\n",
        "• Paste a function with a missing colon (add(a, b)), and let AI fix the syntax error.\n",
        "\n",
        "def add(a,b)\n",
        "   return a+b\n",
        "\n",
        "prompt : generate a python code that function with a missing colon def add(a,b)\n",
        "   return a+b and let AI fix the syntax error."
      ],
      "metadata": {
        "id": "nihzu9x3eAFj"
      }
    },
    {
      "cell_type": "code",
      "metadata": {
        "id": "e5f00adc"
      },
      "source": [
        "def add(a,b):\n",
        "  return a+b"
      ],
      "execution_count": 2,
      "outputs": []
    },
    {
      "cell_type": "markdown",
      "source": [
        "descrption :\n",
        "\n",
        "def add(a, b):  This line starts the function definition. def is a keyword in Python used to define a function. add is the name of the function. (a, b) are the parameters (inputs) that the function takes. In this case, it takes two parameters, a and b.\n",
        "\n",
        " The colon : indicates the start of the function's code block.\n",
        "return a + b : This line is inside the function's code block. It calculates the sum of the two input parameters a and b and then returns that sum as the output of the function."
      ],
      "metadata": {
        "id": "jnCx_Mtte0TS"
      }
    },
    {
      "cell_type": "markdown",
      "source": [
        "Task Description#2 (Loops)\n",
        "• Identify and fix a logic error in a loop that causes infinite iteration.\n",
        "\n",
        "def countdown(n):\n",
        "    while n >= 0:\n",
        "       print(n)\n",
        "       n+=1\n",
        "\n",
        "prompt : generate a python code that fix a logic error in a loop that causes infinite iteration.def countdown(n):\n",
        "    while n >= 0:\n",
        "       print(n)\n",
        "       n+=1"
      ],
      "metadata": {
        "id": "XaVM8rftfD6x"
      }
    },
    {
      "cell_type": "code",
      "metadata": {
        "id": "528efa3b"
      },
      "source": [
        "def countdown(n):\n",
        "    while n >= 0:\n",
        "       print(n)\n",
        "       n-=1"
      ],
      "execution_count": 4,
      "outputs": []
    },
    {
      "cell_type": "markdown",
      "source": [
        "descrption :\n",
        "def countdown(n): This line defines the function named countdown which takes one parameter, n.\n",
        "\n",
        "while n >= 0: This is a while loop that continues to execute as long as the value of n is greater than or equal to 0.\n",
        "\n",
        "print(n): Inside the loop, this line prints the current value of n.\n",
        "n -= 1: This line decrements the value of n by 1 in each iteration."
      ],
      "metadata": {
        "id": "eiXQP7b1gGUr"
      }
    },
    {
      "cell_type": "markdown",
      "source": [
        "Task Description#3\n",
        "• Debug a runtime error caused by division by zero. Let AI insert try-except.\n",
        "\n",
        "def divide(a,b):\n",
        "    return a/b\n",
        "\n",
        "print(divide(10,0))\n",
        "\n",
        "prompt : generate a python code that Debug a runtime error caused by division by zero. Let AI insert try-except.\n",
        "def divide(a,b):\n",
        "    return a/b\n",
        "\n",
        "print(divide(10,0))"
      ],
      "metadata": {
        "id": "jPU6dmuBg8qx"
      }
    },
    {
      "cell_type": "code",
      "metadata": {
        "colab": {
          "base_uri": "https://localhost:8080/"
        },
        "id": "94ccf8ea",
        "outputId": "c53037b2-dc58-4d0e-b201-c79a44976418"
      },
      "source": [
        "def divide(a,b):\n",
        "    try:\n",
        "        return a/b\n",
        "    except ZeroDivisionError:\n",
        "        print(\"Error: Cannot divide by zero!\")\n",
        "        return None\n",
        "\n",
        "print(divide(10,0))\n",
        "print(divide(10,2))"
      ],
      "execution_count": 6,
      "outputs": [
        {
          "output_type": "stream",
          "name": "stdout",
          "text": [
            "Error: Cannot divide by zero!\n",
            "None\n",
            "5.0\n"
          ]
        }
      ]
    },
    {
      "cell_type": "markdown",
      "source": [
        "descrption : This code defines a divide function that safely divides two numbers. It uses a try-except block to catch a ZeroDivisionError if you try to divide by zero, printing an error message instead of crashing."
      ],
      "metadata": {
        "id": "-Jk9uHNvhYG-"
      }
    },
    {
      "cell_type": "markdown",
      "source": [
        "Task Description#4\n",
        "• Provide a faulty class definition (missing self in parameters). Let AI fix it\n",
        "\n",
        "class rectangle:\n",
        "   def __init__(length, width):\n",
        "       self.length = length\n",
        "       self.width = width\n",
        "\n",
        "prompt : generate a python code that Provide a faulty class definition (missing self in parameters). Let AI fix it\n",
        "\n",
        "class rectangle:\n",
        "   def __init__(length, width):\n",
        "       self.length = length\n",
        "       self.width = width"
      ],
      "metadata": {
        "id": "wIMC-KMChuCU"
      }
    },
    {
      "cell_type": "code",
      "metadata": {
        "id": "e36f8659"
      },
      "source": [
        "class rectangle:\n",
        "   def __init__(self, length, width):\n",
        "       self.length = length\n",
        "       self.width = width"
      ],
      "execution_count": 8,
      "outputs": []
    },
    {
      "cell_type": "markdown",
      "source": [
        "descrption : The __init__ method is a constructor that runs automatically when an object is created.\n",
        "\n",
        "It takes two parameters: length and width.\n",
        "\n",
        "These values are stored as object attributes: self.length and self.width."
      ],
      "metadata": {
        "id": "tvUSuiaAi6gy"
      }
    },
    {
      "cell_type": "markdown",
      "source": [
        "Task Description#5\n",
        "• Access an invalid list index and use AI to resolve the Index Error.\n",
        "\n",
        "numbers = [1, 2, 3]\n",
        "print(numbers([5])\n",
        "\n",
        "prompt : generate a code that Access an invalid list index and use AI to resolve the Index Error.\n",
        "\n",
        "numbers = [1, 2, 3]\n",
        "print(numbers([5])"
      ],
      "metadata": {
        "id": "dyBE9ECejE5X"
      }
    },
    {
      "cell_type": "code",
      "source": [
        "numbers = [1, 2, 3]\n",
        "\n",
        "try:\n",
        "    print(numbers[5])  # invalid index\n",
        "except IndexError:\n",
        "    print(\"Invalid index! Automatically resolving...\")\n",
        "    # AI-like resolution: print the last element instead\n",
        "    print(\"Using last valid element:\", numbers[-1])\n"
      ],
      "metadata": {
        "id": "QKhX2tZ3kbuj"
      },
      "execution_count": null,
      "outputs": []
    },
    {
      "cell_type": "markdown",
      "source": [
        "output : Invalid index! Automatically resolving...\n",
        "\n",
        "Using last valid element: 3\n"
      ],
      "metadata": {
        "id": "AvriumcbkfMJ"
      }
    },
    {
      "cell_type": "markdown",
      "source": [
        "descrption : If an IndexError occurs, it’s caught with try-except.\n",
        "\n",
        "Instead of crashing, it prints a message and automatically shows the last valid element of the list."
      ],
      "metadata": {
        "id": "h8RNrPXxkjJi"
      }
    },
    {
      "cell_type": "markdown",
      "source": [],
      "metadata": {
        "id": "a5O2nU_8iZCH"
      }
    }
  ]
}