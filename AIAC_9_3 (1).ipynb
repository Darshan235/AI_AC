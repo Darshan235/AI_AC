{
  "nbformat": 4,
  "nbformat_minor": 0,
  "metadata": {
    "colab": {
      "provenance": []
    },
    "kernelspec": {
      "name": "python3",
      "display_name": "Python 3"
    },
    "language_info": {
      "name": "python"
    }
  },
  "cells": [
    {
      "cell_type": "markdown",
      "source": [
        "#Task 1"
      ],
      "metadata": {
        "id": "9ezlkuPIzQuL"
      }
    },
    {
      "cell_type": "code",
      "metadata": {
        "id": "92b8c5b8"
      },
      "source": [
        "def sum_even_odd(numbers):\n",
        "  even_sum = 0\n",
        "  odd_sum = 0\n",
        "  for number in numbers:\n",
        "    if number % 2 == 0:\n",
        "      even_sum += number\n",
        "    else:\n",
        "      odd_sum += number\n",
        "  return even_sum, odd_sum"
      ],
      "execution_count": 1,
      "outputs": []
    },
    {
      "cell_type": "code",
      "source": [
        "\"\"\"\n",
        "Goes through a list of numbers and adds them up separately\n",
        "depending on whether they are even or odd.\n",
        "\n",
        "Parameters:\n",
        "  numbers (list): The list of integers to check.\n",
        "\n",
        "    Returns:\n",
        "        tuple: (sum_of_evens, sum_of_odds)\n",
        "               The first value is the total of all even numbers,\n",
        "               and the second is the total of all odd numbers.\n",
        "    \"\"\""
      ],
      "metadata": {
        "id": "ZqHXPRw7zZOV"
      },
      "execution_count": null,
      "outputs": []
    },
    {
      "cell_type": "code",
      "source": [
        "\"\"\"Calculates the sum of even and odd numbers in a list.\n",
        "Args:\n",
        "numbers: A list of integers.\n",
        "\n",
        "Returns:\n",
        "  A tuple containing the sum of even numbers and the sum of odd numbers.\n",
        "\"\"\""
      ],
      "metadata": {
        "id": "VhPUXl_sz7u6"
      },
      "execution_count": null,
      "outputs": []
    },
    {
      "cell_type": "markdown",
      "source": [
        "SUMMARY"
      ],
      "metadata": {
        "id": "4hq5Rt-I_YbV"
      }
    },
    {
      "cell_type": "markdown",
      "source": [
        "The first docstring is more human-friendly and gives a clearer explanation of the return values, but is slightly informal.\n",
        "\n",
        "The second docstring is more professional and concise, following common standards, but sacrifices a little clarity and warmth."
      ],
      "metadata": {
        "id": "bzeTn081-fm9"
      }
    },
    {
      "cell_type": "markdown",
      "source": [
        "#Task 2\n"
      ],
      "metadata": {
        "id": "7zVKpxdI0V0S"
      }
    },
    {
      "cell_type": "markdown",
      "source": [
        "Manual"
      ],
      "metadata": {
        "id": "GYYMC_qVAI5t"
      }
    },
    {
      "cell_type": "code",
      "source": [
        "class sru_student:\n",
        "    \"\"\"Represents a student at SRU.\n",
        "\n",
        "    Attributes:\n",
        "        name: The name of the student.\n",
        "        roll_no: The roll number of the student.\n",
        "        hostel_status: The hostel status of the student (e.g., 'resident', 'non-resident').\n",
        "        fee_paid: The amount of fees paid by the student.\n",
        "    \"\"\"\n",
        "\n",
        "    def __init__(self, name, roll_no, hostel_status):\n",
        "        # This method runs when a new student object is created\n",
        "        self.name = name\n",
        "        self.roll_no = roll_no\n",
        "        self.hostel_status = hostel_status\n",
        "        self.fee_paid = 0   # Start with fee_paid set to 0\n",
        "\n",
        "    def fee_update(self, amount):\n",
        "        # Adds the given amount to the student's total fees\n",
        "        self.fee_paid += amount\n",
        "        print(f\"Fee updated for {self.name}. Total fee paid: {self.fee_paid}\")\n",
        "\n",
        "    def display_details(self):\n",
        "        # Prints out all details of the student in a clear format\n",
        "        print(\"Student Details:\")\n",
        "        print(f\"Name: {self.name}\")\n",
        "        print(f\"Roll No.: {self.roll_no}\")\n",
        "        print(f\"Hostel Status: {self.hostel_status}\")\n",
        "        print(f\"Fees Paid: {self.fee_paid}\")\n"
      ],
      "metadata": {
        "id": "EnxGvc2904Ya"
      },
      "execution_count": null,
      "outputs": []
    },
    {
      "cell_type": "markdown",
      "source": [
        "AI generated"
      ],
      "metadata": {
        "id": "c2OZEupJAGDa"
      }
    },
    {
      "cell_type": "code",
      "metadata": {
        "id": "983ba1ba"
      },
      "source": [
        "class sru_student:\n",
        "  \"\"\"Represents a student at SRU.\n",
        "\n",
        "  Attributes:\n",
        "    name: The name of the student.\n",
        "    roll_no: The roll number of the student.\n",
        "    hostel_status: The hostel status of the student (e.g., 'resident', 'non-resident').\n",
        "    fee_paid: The amount of fees paid by the student.\n",
        "  \"\"\"\n",
        "\n",
        "  def __init__(self, name, roll_no, hostel_status):\n",
        "    self.name = name\n",
        "    self.roll_no = roll_no\n",
        "    self.hostel_status = hostel_status\n",
        "    self.fee_paid = 0  # Initialize fee paid to 0\n",
        "\n",
        "  def fee_update(self, amount):\n",
        "    \"\"\"Updates the amount of fees paid by the student.\"\"\"\n",
        "    self.fee_paid += amount\n",
        "    print(f\"Fee updated for {self.name}. Total fee paid: {self.fee_paid}\")\n",
        "\n",
        "  def display_details(self):\n",
        "    \"\"\"Displays the details of the student.\"\"\"\n",
        "    print(\"Student Details:\")\n",
        "    print(f\"Name: {self.name}\")\n",
        "    print(f\"Roll No.: {self.roll_no}\")\n",
        "    print(f\"Hostel Status: {self.hostel_status}\")\n",
        "    print(f\"Fees Paid: {self.fee_paid}\")"
      ],
      "execution_count": 2,
      "outputs": []
    },
    {
      "cell_type": "markdown",
      "source": [
        "#Task 3"
      ],
      "metadata": {
        "id": "TU2IeQI91pQM"
      }
    },
    {
      "cell_type": "markdown",
      "source": [
        "Manual"
      ],
      "metadata": {
        "id": "vPBfVSwaA5aM"
      }
    },
    {
      "cell_type": "code",
      "metadata": {
        "id": "6ddc7552"
      },
      "source": [
        "\"\"\"\n",
        "A tiny calculator module with four basic operations: add, subtract,\n",
        "multiply, and divide.\n",
        "\n",
        "You can use this to quickly do math with two numbers at a time.\n",
        "\"\"\"\n",
        "\n",
        "\n",
        "def add(x, y):\n",
        "    \"\"\"\n",
        "    Add two numbers.\n",
        "\n",
        "    Args:\n",
        "        x: First number.\n",
        "        y: Second number.\n",
        "\n",
        "    Returns:\n",
        "        The total of x and y.\n",
        "    \"\"\"\n",
        "    return x + y\n",
        "\n",
        "\n",
        "def subtract(x, y):\n",
        "    \"\"\"\n",
        "    Subtract one number from another.\n",
        "\n",
        "    Args:\n",
        "        x: The number to start with.\n",
        "        y: The number to take away.\n",
        "\n",
        "    Returns:\n",
        "        What’s left after subtracting y from x.\n",
        "    \"\"\"\n",
        "    return x - y\n",
        "\n",
        "\n",
        "def multiply(x, y):\n",
        "    \"\"\"\n",
        "    Multiply two numbers.\n",
        "\n",
        "    Args:\n",
        "        x: First number.\n",
        "        y: Second number.\n",
        "\n",
        "    Returns:\n",
        "        The result of x times y.\n",
        "    \"\"\"\n",
        "    return x * y\n",
        "\n",
        "\n",
        "def divide(x, y):\n",
        "    \"\"\"\n",
        "    Divide one number by another.\n",
        "\n",
        "    Args:\n",
        "        x: The top number (numerator).\n",
        "        y: The bottom number (denominator).\n",
        "\n",
        "    Returns:\n",
        "        The result of x divided by y.\n",
        "\n",
        "    Raises:\n",
        "        ZeroDivisionError: If you try to divide by zero.\n",
        "    \"\"\"\n",
        "    if y == 0:\n",
        "        raise ZeroDivisionError(\"Oops! You can’t divide by zero.\")\n",
        "    return x / y\n"
      ],
      "execution_count": null,
      "outputs": []
    },
    {
      "cell_type": "markdown",
      "source": [
        "AI ASSSISTED"
      ],
      "metadata": {
        "id": "qpAZvzOHAvIl"
      }
    },
    {
      "cell_type": "code",
      "source": [
        "\"\"\"\n",
        "This module provides basic arithmetic operations: addition, subtraction,\n",
        "multiplication, and division.\n",
        "\n",
        "It is designed as a simple utility for performing calculations\n",
        "with two numbers at a time.\n",
        "\"\"\"\n",
        "\n",
        "\n",
        "def add(x, y):\n",
        "    \"\"\"\n",
        "    Add two numbers together.\n",
        "\n",
        "    Args:\n",
        "        x (float or int): The first number.\n",
        "        y (float or int): The second number.\n",
        "\n",
        "    Returns:\n",
        "        float or int: The sum of x and y.\n",
        "    \"\"\"\n",
        "    return x + y\n",
        "\n",
        "\n",
        "def subtract(x, y):\n",
        "    \"\"\"\n",
        "    Subtract one number from another.\n",
        "\n",
        "    Args:\n",
        "        x (float or int): The number to subtract from.\n",
        "        y (float or int): The number to subtract.\n",
        "\n",
        "    Returns:\n",
        "        float or int: The result of x minus y.\n",
        "    \"\"\"\n",
        "    return x - y\n",
        "\n",
        "\n",
        "def multiply(x, y):\n",
        "    \"\"\"\n",
        "    Multiply two numbers.\n",
        "\n",
        "    Args:\n",
        "        x (float or int): The first number.\n",
        "        y (float or int): The second number.\n",
        "\n",
        "    Returns:\n",
        "        float or int: The product of x and y.\n",
        "    \"\"\"\n",
        "    return x * y\n",
        "\n",
        "\n",
        "def divide(x, y):\n",
        "    \"\"\"\n",
        "    Divide one number by another.\n",
        "\n",
        "    Args:\n",
        "        x (float or int): The numerator.\n",
        "        y (float or int): The denominator.\n",
        "\n",
        "    Returns:\n",
        "        float: The result of dividing x by y.\n",
        "\n",
        "    Raises:\n",
        "        ZeroDivisionError: If y (the denominator) is zero.\n",
        "    \"\"\"\n",
        "    if y == 0:\n",
        "        raise ZeroDivisionError(\"Cannot divide by zero\")\n",
        "    return x / y\n"
      ],
      "metadata": {
        "id": "5j6BsOhb1-IM"
      },
      "execution_count": null,
      "outputs": []
    }
  ]
}