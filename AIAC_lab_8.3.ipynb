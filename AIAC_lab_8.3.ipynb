{
  "nbformat": 4,
  "nbformat_minor": 0,
  "metadata": {
    "colab": {
      "provenance": []
    },
    "kernelspec": {
      "name": "python3",
      "display_name": "Python 3"
    },
    "language_info": {
      "name": "python"
    }
  },
  "cells": [
    {
      "cell_type": "markdown",
      "source": [
        "#Task 1"
      ],
      "metadata": {
        "id": "i_bIzv_Zqd1Q"
      }
    },
    {
      "cell_type": "markdown",
      "metadata": {
        "id": "0d8b0310"
      },
      "source": [
        "First, let's generate some test cases for the `is_prime` function."
      ]
    },
    {
      "cell_type": "code",
      "metadata": {
        "id": "7c7d0c27"
      },
      "source": [
        "test_cases = [\n",
        "    (0, False),  # Edge case: 0\n",
        "    (1, False),  # Edge case: 1\n",
        "    (2, True),   # Edge case: 2 (smallest prime)\n",
        "    (3, True),\n",
        "    (4, False),\n",
        "    (5, True),\n",
        "    (10, False),\n",
        "    (17, True),\n",
        "    (100, False),\n",
        "    (997, True), # A large prime\n",
        "    (-5, False)  # Negative number\n",
        "]"
      ],
      "execution_count": 1,
      "outputs": []
    },
    {
      "cell_type": "markdown",
      "metadata": {
        "id": "a68e5e0f"
      },
      "source": [
        "Now, let's implement the `is_prime` function based on the requirements."
      ]
    },
    {
      "cell_type": "code",
      "metadata": {
        "id": "b648128f"
      },
      "source": [
        "def is_prime(n):\n",
        "    \"\"\"\n",
        "    Checks if a number is prime.\n",
        "\n",
        "    Args:\n",
        "        n: The integer to check.\n",
        "\n",
        "    Returns:\n",
        "        True if the number is prime, False otherwise.\n",
        "    \"\"\"\n",
        "    if not isinstance(n, int) or n <= 1:\n",
        "        return False\n",
        "    if n == 2:\n",
        "        return True\n",
        "    if n % 2 == 0:\n",
        "        return False\n",
        "    i = 3\n",
        "    while i * i <= n:\n",
        "        if n % i == 0:\n",
        "            return False\n",
        "        i += 2\n",
        "    return True"
      ],
      "execution_count": 2,
      "outputs": []
    },
    {
      "cell_type": "markdown",
      "metadata": {
        "id": "9d009895"
      },
      "source": [
        "Let's test the `is_prime` function with the generated test cases."
      ]
    },
    {
      "cell_type": "code",
      "metadata": {
        "colab": {
          "base_uri": "https://localhost:8080/"
        },
        "id": "33d95040",
        "outputId": "8557a829-9322-43e3-ea51-d19e7abbd67b"
      },
      "source": [
        "for number, expected in test_cases:\n",
        "    result = is_prime(number)\n",
        "    #assert result == expected, f\"Input: {number}, Expected: {expected}, Got: {result}\"\n",
        "    print(f\"Input: {number}, Expected: {expected}, Got: {result}\")"
      ],
      "execution_count": 8,
      "outputs": [
        {
          "output_type": "stream",
          "name": "stdout",
          "text": [
            "Input: 0, Expected: False, Got: False\n",
            "Input: 1, Expected: False, Got: False\n",
            "Input: 2, Expected: True, Got: True\n",
            "Input: 3, Expected: True, Got: True\n",
            "Input: 4, Expected: False, Got: False\n",
            "Input: 5, Expected: True, Got: True\n",
            "Input: 10, Expected: False, Got: False\n",
            "Input: 17, Expected: True, Got: True\n",
            "Input: 100, Expected: False, Got: False\n",
            "Input: 997, Expected: True, Got: True\n",
            "Input: -5, Expected: False, Got: False\n"
          ]
        }
      ]
    },
    {
      "cell_type": "markdown",
      "source": [
        "#Task2\n"
      ],
      "metadata": {
        "id": "SRZk17uJl80l"
      }
    },
    {
      "cell_type": "markdown",
      "metadata": {
        "id": "5dafad42"
      },
      "source": [
        "Let's generate test cases for `celsius_to_fahrenheit` and `fahrenheit_to_celsius`."
      ]
    },
    {
      "cell_type": "code",
      "metadata": {
        "id": "e2163822"
      },
      "source": [
        "celsius_test_cases = [\n",
        "    (0, 32.0),    # Freezing point of water\n",
        "    (100, 212.0), # Boiling point of water\n",
        "    (25, 77.0),\n",
        "    (-10, 14.0),\n",
        "    (37.5, 99.5),  # Decimal input\n",
        "    (\"abc\", None), # Invalid input: string\n",
        "    (None, None)   # Invalid input: None\n",
        "]\n",
        "\n",
        "fahrenheit_test_cases = [\n",
        "    (32, 0.0),    # Freezing point of water\n",
        "    (212, 100.0), # Boiling point of water\n",
        "    (77, 25.0),\n",
        "    (14, -10.0),\n",
        "    (99.5, 37.5),  # Decimal input\n",
        "    (\"xyz\", None), # Invalid input: string\n",
        "    (None, None)   # Invalid input: None\n",
        "]"
      ],
      "execution_count": 4,
      "outputs": []
    },
    {
      "cell_type": "markdown",
      "metadata": {
        "id": "deefd70a"
      },
      "source": [
        "Now, let's implement the temperature conversion functions."
      ]
    },
    {
      "cell_type": "code",
      "metadata": {
        "id": "2835ab05"
      },
      "source": [
        "def celsius_to_fahrenheit(celsius):\n",
        "    \"\"\"Converts Celsius to Fahrenheit.\"\"\"\n",
        "    if not isinstance(celsius, (int, float)):\n",
        "        return None\n",
        "    return (celsius * 9/5) + 32\n",
        "\n",
        "def fahrenheit_to_celsius(fahrenheit):\n",
        "    \"\"\"Converts Fahrenheit to Celsius.\"\"\"\n",
        "    if not isinstance(fahrenheit, (int, float)):\n",
        "        return None\n",
        "    return (fahrenheit - 32) * 5/9"
      ],
      "execution_count": 5,
      "outputs": []
    },
    {
      "cell_type": "markdown",
      "metadata": {
        "id": "b994e030"
      },
      "source": [
        "Let's test the temperature conversion functions with the generated test cases."
      ]
    },
    {
      "cell_type": "code",
      "metadata": {
        "colab": {
          "base_uri": "https://localhost:8080/"
        },
        "id": "6c8b1f42",
        "outputId": "04265980-43db-43f7-dbbb-e86314d2a370"
      },
      "source": [
        "print(\"Testing Celsius to Fahrenheit:\")\n",
        "for celsius, expected in celsius_test_cases:\n",
        "    result = celsius_to_fahrenheit(celsius)\n",
        "    #assert result == expected, f\"Input: {celsius}, Expected: {expected}, Got: {result}\"\n",
        "    print(f\"Input: {celsius}°C, Expected: {expected}°F, Got: {result}°F\")\n",
        "\n",
        "print(\"\\nTesting Fahrenheit to Celsius:\")\n",
        "for fahrenheit, expected in fahrenheit_test_cases:\n",
        "    result = fahrenheit_to_celsius(fahrenheit)\n",
        "    #assert result == expected, f\"Input: {fahrenheit}, Expected: {expected}, Got: {result}\"\n",
        "    print(f\"Input: {fahrenheit}°F, Expected: {expected}°C, Got: {result}°C\")"
      ],
      "execution_count": 7,
      "outputs": [
        {
          "output_type": "stream",
          "name": "stdout",
          "text": [
            "Testing Celsius to Fahrenheit:\n",
            "Input: 0°C, Expected: 32.0°F, Got: 32.0°F\n",
            "Input: 100°C, Expected: 212.0°F, Got: 212.0°F\n",
            "Input: 25°C, Expected: 77.0°F, Got: 77.0°F\n",
            "Input: -10°C, Expected: 14.0°F, Got: 14.0°F\n",
            "Input: 37.5°C, Expected: 99.5°F, Got: 99.5°F\n",
            "Input: abc°C, Expected: None°F, Got: None°F\n",
            "Input: None°C, Expected: None°F, Got: None°F\n",
            "\n",
            "Testing Fahrenheit to Celsius:\n",
            "Input: 32°F, Expected: 0.0°C, Got: 0.0°C\n",
            "Input: 212°F, Expected: 100.0°C, Got: 100.0°C\n",
            "Input: 77°F, Expected: 25.0°C, Got: 25.0°C\n",
            "Input: 14°F, Expected: -10.0°C, Got: -10.0°C\n",
            "Input: 99.5°F, Expected: 37.5°C, Got: 37.5°C\n",
            "Input: xyz°F, Expected: None°C, Got: None°C\n",
            "Input: None°F, Expected: None°C, Got: None°C\n"
          ]
        }
      ]
    },
    {
      "cell_type": "markdown",
      "metadata": {
        "id": "5271654a"
      },
      "source": [
        "# Task 3\n",
        "\n",
        "Let's generate test cases for the `count_words` function."
      ]
    },
    {
      "cell_type": "code",
      "metadata": {
        "id": "1e76512c"
      },
      "source": [
        "count_words_test_cases = [\n",
        "    (\"This is a sentence.\", 4),  # Normal text\n",
        "    (\"  Leading and trailing spaces.  \", 4), # Leading/trailing spaces - Corrected expected value\n",
        "    (\"Multiple   spaces   here.\", 3), # Multiple spaces between words - Corrected expected value\n",
        "    (\"Punctuation!\", 1), # Punctuation at the end\n",
        "    (\"Word, with, commas.\", 3), # Punctuation within\n",
        "    (\"\", 0), # Empty string\n",
        "    (\"   \", 0), # Only spaces\n",
        "    (\"One\", 1), # Single word\n",
        "    (\"  One  \", 1), # Single word with spaces\n",
        "    (\"Word-with-hyphen\", 1), # Hyphenated word (treated as one word)\n",
        "    (\"Word with. punctuation.\", 3) # Punctuation and spaces\n",
        "]"
      ],
      "execution_count": 18,
      "outputs": []
    },
    {
      "cell_type": "markdown",
      "metadata": {
        "id": "f209fad3"
      },
      "source": [
        "Now, let's implement the `count_words` function."
      ]
    },
    {
      "cell_type": "code",
      "metadata": {
        "id": "254d1893"
      },
      "source": [
        "import string\n",
        "\n",
        "def count_words(text):\n",
        "    \"\"\"\n",
        "    Counts the number of words in a sentence.\n",
        "\n",
        "    Args:\n",
        "        text: The input string.\n",
        "\n",
        "    Returns:\n",
        "        The number of words in the string.\n",
        "    \"\"\"\n",
        "    if not isinstance(text, str) or not text.strip():\n",
        "        return 0\n",
        "    # Remove punctuation and split by whitespace\n",
        "    cleaned_text = text.translate(str.maketrans('', '', string.punctuation))\n",
        "    words = cleaned_text.split()\n",
        "    return len(words)"
      ],
      "execution_count": 19,
      "outputs": []
    },
    {
      "cell_type": "markdown",
      "metadata": {
        "id": "397658bf"
      },
      "source": [
        "Let's test the `count_words` function with the generated test cases."
      ]
    },
    {
      "cell_type": "code",
      "metadata": {
        "colab": {
          "base_uri": "https://localhost:8080/"
        },
        "id": "43effad1",
        "outputId": "e40e55db-682b-4e3a-e81c-daca7c9fb636"
      },
      "source": [
        "print(\"Testing count_words function:\")\n",
        "for text, expected in count_words_test_cases:\n",
        "    result = count_words(text)\n",
        "    assert result == expected, f\"Input: '{text}', Expected: {expected}, Got: {result}\"\n",
        "    print(f\"Input: '{text}', Expected: {expected}, Got: {result}\")"
      ],
      "execution_count": 20,
      "outputs": [
        {
          "output_type": "stream",
          "name": "stdout",
          "text": [
            "Testing count_words function:\n",
            "Input: 'This is a sentence.', Expected: 4, Got: 4\n",
            "Input: '  Leading and trailing spaces.  ', Expected: 4, Got: 4\n",
            "Input: 'Multiple   spaces   here.', Expected: 3, Got: 3\n",
            "Input: 'Punctuation!', Expected: 1, Got: 1\n",
            "Input: 'Word, with, commas.', Expected: 3, Got: 3\n",
            "Input: '', Expected: 0, Got: 0\n",
            "Input: '   ', Expected: 0, Got: 0\n",
            "Input: 'One', Expected: 1, Got: 1\n",
            "Input: '  One  ', Expected: 1, Got: 1\n",
            "Input: 'Word-with-hyphen', Expected: 1, Got: 1\n",
            "Input: 'Word with. punctuation.', Expected: 3, Got: 3\n"
          ]
        }
      ]
    },
    {
      "cell_type": "markdown",
      "source": [
        "#Task4"
      ],
      "metadata": {
        "id": "p8K-Uy6coWK4"
      }
    },
    {
      "cell_type": "markdown",
      "metadata": {
        "id": "84b98828"
      },
      "source": [
        "# Task 4\n",
        "Generate test cases for a BankAccount class with `deposit(amount)`, `withdraw(amount)`, and `check_balance()` methods. Requirements: Negative deposits/withdrawals should raise an error, and cannot withdraw more than balance. Then, write Python code to test these cases."
      ]
    },
    {
      "cell_type": "markdown",
      "metadata": {
        "id": "16ecf7b3"
      },
      "source": [
        "## Generate test cases\n",
        "\n",
        "### Subtask:\n",
        "Create test cases for the `BankAccount` class covering successful deposits, withdrawals, checking balance, negative deposit attempts, negative withdrawal attempts, and withdrawal attempts exceeding the balance.\n"
      ]
    },
    {
      "cell_type": "markdown",
      "metadata": {
        "id": "31fb5208"
      },
      "source": [
        "**Reasoning**:\n",
        "Create test cases for the BankAccount class as specified in the instructions, covering various scenarios including successful operations and error conditions.\n",
        "\n"
      ]
    },
    {
      "cell_type": "code",
      "metadata": {
        "id": "4bc9de1b"
      },
      "source": [
        "bank_account_test_cases = [\n",
        "    # Successful deposit and checking balance\n",
        "    (100, [('deposit', 50), ('check_balance',)], 150),\n",
        "\n",
        "    # Successful withdrawal and checking balance\n",
        "    (100, [('withdraw', 30), ('check_balance',)], 70),\n",
        "\n",
        "    # Multiple successful deposits and withdrawals\n",
        "    (200, [('deposit', 50), ('withdraw', 30), ('deposit', 100), ('withdraw', 20)], 300),\n",
        "\n",
        "    # Attempting to deposit a negative amount (expect an error)\n",
        "    (100, [('deposit', -50)], ValueError),\n",
        "\n",
        "    # Attempting to withdraw a negative amount (expect an error)\n",
        "    (100, [('withdraw', -30)], ValueError),\n",
        "\n",
        "    # Attempting to withdraw an amount greater than the current balance (expect an error)\n",
        "    (50, [('withdraw', 100)], ValueError),\n",
        "\n",
        "    # Checking balance on an initial account\n",
        "    (0, [('check_balance',)], 0),\n",
        "\n",
        "    # Deposit followed by invalid withdrawal\n",
        "    (100, [('deposit', 50), ('withdraw', 200)], ValueError),\n",
        "\n",
        "    # Invalid deposit followed by valid operation\n",
        "    (100, [('deposit', -50), ('check_balance',)], ValueError), # Expect error on deposit\n",
        "\n",
        "    # Invalid withdrawal followed by valid operation\n",
        "    (100, [('withdraw', -30), ('check_balance',)], ValueError), # Expect error on withdrawal\n",
        "\n",
        "    # Sequence of operations with an error in the middle\n",
        "    (200, [('deposit', 50), ('withdraw', 300), ('check_balance',)], ValueError), # Error on withdraw, check_balance won't be reached in this scenario structure\n",
        "\n",
        "]"
      ],
      "execution_count": 21,
      "outputs": []
    },
    {
      "cell_type": "markdown",
      "metadata": {
        "id": "ef85b243"
      },
      "source": [
        "## Implement bankaccount class\n",
        "\n",
        "### Subtask:\n",
        "Define the `BankAccount` class with an initial balance and implement the `deposit`, `withdraw`, and `check_balance` methods according to the requirements, including raising appropriate errors for invalid operations.\n"
      ]
    },
    {
      "cell_type": "markdown",
      "metadata": {
        "id": "9313253a"
      },
      "source": [
        "**Reasoning**:\n",
        "Define the BankAccount class with the required methods and error handling.\n",
        "\n"
      ]
    },
    {
      "cell_type": "code",
      "metadata": {
        "id": "be76ab5b"
      },
      "source": [
        "class BankAccount:\n",
        "    \"\"\"\n",
        "    Represents a simple bank account.\n",
        "    \"\"\"\n",
        "    def __init__(self, initial_balance=0):\n",
        "        \"\"\"\n",
        "        Initializes a new bank account with an optional initial balance.\n",
        "\n",
        "        Args:\n",
        "            initial_balance: The starting balance for the account.\n",
        "        \"\"\"\n",
        "        if not isinstance(initial_balance, (int, float)) or initial_balance < 0:\n",
        "             raise ValueError(\"Initial balance must be a non-negative number.\")\n",
        "        self.balance = initial_balance\n",
        "\n",
        "    def deposit(self, amount):\n",
        "        \"\"\"\n",
        "        Deposits a specified amount into the account.\n",
        "\n",
        "        Args:\n",
        "            amount: The amount to deposit.\n",
        "\n",
        "        Raises:\n",
        "            ValueError: If the deposit amount is negative.\n",
        "        \"\"\"\n",
        "        if not isinstance(amount, (int, float)) or amount <= 0:\n",
        "            raise ValueError(\"Deposit amount must be a positive number.\")\n",
        "        self.balance += amount\n",
        "\n",
        "    def withdraw(self, amount):\n",
        "        \"\"\"\n",
        "        Withdraws a specified amount from the account.\n",
        "\n",
        "        Args:\n",
        "            amount: The amount to withdraw.\n",
        "\n",
        "        Raises:\n",
        "            ValueError: If the withdrawal amount is negative or exceeds the balance.\n",
        "        \"\"\"\n",
        "        if not isinstance(amount, (int, float)) or amount <= 0:\n",
        "            raise ValueError(\"Withdrawal amount must be a positive number.\")\n",
        "        if amount > self.balance:\n",
        "            raise ValueError(\"Insufficient funds.\")\n",
        "        self.balance -= amount\n",
        "\n",
        "    def check_balance(self):\n",
        "        \"\"\"\n",
        "        Returns the current balance of the account.\n",
        "        \"\"\"\n",
        "        return self.balance"
      ],
      "execution_count": 22,
      "outputs": []
    },
    {
      "cell_type": "markdown",
      "metadata": {
        "id": "c24e6aec"
      },
      "source": [
        "## Test bankaccount class\n",
        "\n",
        "### Subtask:\n",
        "Write code to instantiate the `BankAccount` class and run the generated test cases to verify the correctness of the implemented methods and error handling.\n"
      ]
    },
    {
      "cell_type": "markdown",
      "metadata": {
        "id": "da5023bb"
      },
      "source": [
        "**Reasoning**:\n",
        "Write code to iterate through the test cases, create a BankAccount instance for each, perform the operations, handle expected errors, and assert the final balance or error type against the expected outcome.\n",
        "\n"
      ]
    },
    {
      "cell_type": "code",
      "metadata": {
        "colab": {
          "base_uri": "https://localhost:8080/"
        },
        "id": "a3lfR-O0pi7p",
        "outputId": "4738cbfc-e0ef-4308-8784-9ad0559b21a5"
      },
      "source": [
        "print(\"Testing BankAccount class:\")\n",
        "for initial_balance, operations, expected_outcome in bank_account_test_cases:\n",
        "    test_case_passed = False\n",
        "    account = None\n",
        "    outcome_message = \"\"\n",
        "\n",
        "    try:\n",
        "        account = BankAccount(initial_balance)\n",
        "\n",
        "        for operation_tuple in operations:\n",
        "            if len(operation_tuple) == 2:\n",
        "                operation, amount = operation_tuple\n",
        "            elif len(operation_tuple) == 1:\n",
        "                operation = operation_tuple[0]\n",
        "                amount = None # No amount for operations like check_balance\n",
        "            else:\n",
        "                 raise ValueError(f\"Invalid operation format: {operation_tuple}\")\n",
        "\n",
        "\n",
        "            if operation == 'deposit':\n",
        "                account.deposit(amount)\n",
        "            elif operation == 'withdraw':\n",
        "                account.withdraw(amount)\n",
        "            elif operation == 'check_balance':\n",
        "                 # For check_balance, the comparison happens at the end\n",
        "                 pass\n",
        "            else:\n",
        "                raise ValueError(f\"Unknown operation: {operation}\")\n",
        "\n",
        "        # If we reached here, no exception was raised during operations\n",
        "        if expected_outcome is not ValueError:\n",
        "            final_balance = account.check_balance()\n",
        "            assert final_balance == expected_outcome, f\"Input: initial={initial_balance}, ops={operations}, Expected balance: {expected_outcome}, Got: {final_balance}\"\n",
        "            test_case_passed = True\n",
        "            outcome_message = f\"Final Balance: {final_balance}\"\n",
        "        else:\n",
        "            # If we expected an error but didn't get one\n",
        "            raise AssertionError(f\"Input: initial={initial_balance}, ops={operations}, Expected ValueError but no exception was raised.\")\n",
        "\n",
        "    except ValueError as e:\n",
        "        # An error was raised\n",
        "        if expected_outcome is ValueError:\n",
        "            test_case_passed = True # Expected error was raised\n",
        "            outcome_message = f\"Caught expected error: {type(e).__name__}\"\n",
        "        else:\n",
        "            # An unexpected error was raised\n",
        "            outcome_message = f\"Caught unexpected error: {type(e).__name__} - {e}\"\n",
        "            print(f\"Test failed for input: initial={initial_balance}, ops={operations}\")\n",
        "            print(f\"Error: {outcome_message}\")\n",
        "            continue # Move to the next test case\n",
        "    except AssertionError as e:\n",
        "        # Re-raise assertion errors to indicate failure\n",
        "        outcome_message = f\"Assertion Failed: {e}\"\n",
        "        print(f\"Test failed for input: initial={initial_balance}, ops={operations}\")\n",
        "        print(f\"Error: {outcome_message}\")\n",
        "        continue # Move to the next test case\n",
        "    except Exception as e:\n",
        "        # Catch any other unexpected exceptions\n",
        "        outcome_message = f\"Caught unexpected exception: {type(e).__name__} - {e}\"\n",
        "        print(f\"Test failed for input: initial={initial_balance}, ops={operations}\")\n",
        "        print(f\"Error: {outcome_message}\")\n",
        "        continue\n",
        "\n",
        "\n",
        "    # If the expected outcome was an exception type but no exception was caught\n",
        "    if not test_case_passed and isinstance(expected_outcome, type) and issubclass(expected_outcome, Exception):\n",
        "         outcome_message = f\"Expected {expected_outcome.__name__} but no exception was raised.\"\n",
        "         print(f\"Test failed for input: initial={initial_balance}, ops={operations}\")\n",
        "         print(f\"Error: {outcome_message}\")\n",
        "         continue\n",
        "\n",
        "\n",
        "    if test_case_passed:\n",
        "        print(f\"Test passed for input: initial={initial_balance}, ops={operations}. {outcome_message}\")\n",
        "    else:\n",
        "         # This case should ideally not be reached if assertions are correct\n",
        "        print(f\"Test failed for input: initial={initial_balance}, ops={operations}. {outcome_message}\")"
      ],
      "execution_count": 25,
      "outputs": [
        {
          "output_type": "stream",
          "name": "stdout",
          "text": [
            "Testing BankAccount class:\n",
            "Test passed for input: initial=100, ops=[('deposit', 50), ('check_balance',)]. Final Balance: 150\n",
            "Test passed for input: initial=100, ops=[('withdraw', 30), ('check_balance',)]. Final Balance: 70\n",
            "Test passed for input: initial=200, ops=[('deposit', 50), ('withdraw', 30), ('deposit', 100), ('withdraw', 20)]. Final Balance: 300\n",
            "Test passed for input: initial=100, ops=[('deposit', -50)]. Caught expected error: ValueError\n",
            "Test passed for input: initial=100, ops=[('withdraw', -30)]. Caught expected error: ValueError\n",
            "Test passed for input: initial=50, ops=[('withdraw', 100)]. Caught expected error: ValueError\n",
            "Test passed for input: initial=0, ops=[('check_balance',)]. Final Balance: 0\n",
            "Test passed for input: initial=100, ops=[('deposit', 50), ('withdraw', 200)]. Caught expected error: ValueError\n",
            "Test passed for input: initial=100, ops=[('deposit', -50), ('check_balance',)]. Caught expected error: ValueError\n",
            "Test passed for input: initial=100, ops=[('withdraw', -30), ('check_balance',)]. Caught expected error: ValueError\n",
            "Test passed for input: initial=200, ops=[('deposit', 50), ('withdraw', 300), ('check_balance',)]. Caught expected error: ValueError\n"
          ]
        }
      ]
    },
    {
      "cell_type": "markdown",
      "metadata": {
        "id": "f27f4edd"
      },
      "source": [
        "## Summary:\n",
        "\n",
        "### Data Analysis Key Findings\n",
        "\n",
        "*   The `BankAccount` class was successfully implemented with `deposit`, `withdraw`, and `check_balance` methods.\n",
        "*   The implementation correctly raises a `ValueError` for non-positive deposit amounts.\n",
        "*   The implementation correctly raises a `ValueError` for non-positive withdrawal amounts or attempts to withdraw more than the current balance.\n",
        "*   All defined test cases, covering successful operations and expected error conditions (negative deposits/withdrawals, insufficient funds), passed after the `BankAccount` class and the testing logic were correctly implemented.\n",
        "\n",
        "### Insights or Next Steps\n",
        "\n",
        "*   The comprehensive set of test cases proved effective in verifying the core functionality and error handling of the `BankAccount` class.\n",
        "*   Consider adding edge cases like zero deposits or withdrawals, and testing with floating-point numbers to ensure robustness.\n"
      ]
    },
    {
      "cell_type": "markdown",
      "metadata": {
        "id": "580d2f2f"
      },
      "source": [
        "# Task 5\n",
        "\n",
        "Let's generate test cases for the `is_number_palindrome` function."
      ]
    },
    {
      "cell_type": "code",
      "metadata": {
        "id": "4fdfa0d0"
      },
      "source": [
        "is_number_palindrome_test_cases = [\n",
        "    (121, True),   # Example: Palindrome\n",
        "    (123, False),  # Example: Not a palindrome\n",
        "    (0, True),     # Edge case: 0 (considered a palindrome)\n",
        "    (-121, False), # Edge case: Negative number (not a palindrome)\n",
        "    (1221, True),  # Even number of digits\n",
        "    (12321, True), # Odd number of digits\n",
        "    (10, False),   # Ends in 0\n",
        "    (1, True),     # Single digit\n",
        "    (-1, False),   # Negative single digit\n",
        "    (1001, True),  # Palindrome with 0s\n",
        "    (123454321, True), # Larger palindrome\n",
        "    (123456789, False) # Larger non-palindrome\n",
        "]"
      ],
      "execution_count": 26,
      "outputs": []
    },
    {
      "cell_type": "markdown",
      "metadata": {
        "id": "e4122303"
      },
      "source": [
        "Now, let's implement the `is_number_palindrome` function."
      ]
    },
    {
      "cell_type": "code",
      "metadata": {
        "id": "2fd152ed"
      },
      "source": [
        "def is_number_palindrome(num):\n",
        "    \"\"\"\n",
        "    Checks if an integer is a palindrome.\n",
        "\n",
        "    Args:\n",
        "        num: The integer to check.\n",
        "\n",
        "    Returns:\n",
        "        True if the number is a palindrome, False otherwise.\n",
        "    \"\"\"\n",
        "    # Handle negative numbers and single-digit numbers\n",
        "    if num < 0:\n",
        "        return False\n",
        "    if 0 <= num < 10:\n",
        "        return True\n",
        "\n",
        "    # Convert the number to a string to easily compare digits\n",
        "    num_str = str(num)\n",
        "    # Check if the string is equal to its reverse\n",
        "    return num_str == num_str[::-1]"
      ],
      "execution_count": 27,
      "outputs": []
    },
    {
      "cell_type": "markdown",
      "metadata": {
        "id": "f14e438e"
      },
      "source": [
        "Let's test the `is_number_palindrome` function with the generated test cases."
      ]
    },
    {
      "cell_type": "code",
      "metadata": {
        "colab": {
          "base_uri": "https://localhost:8080/"
        },
        "id": "41387248",
        "outputId": "c6eee1b7-8818-4cc2-9aeb-2b175b5c619a"
      },
      "source": [
        "print(\"Testing is_number_palindrome function:\")\n",
        "for number, expected in is_number_palindrome_test_cases:\n",
        "    result = is_number_palindrome(number)\n",
        "    assert result == expected, f\"Input: {number}, Expected: {expected}, Got: {result}\"\n",
        "    print(f\"Input: {number}, Expected: {expected}, Got: {result}\")"
      ],
      "execution_count": 28,
      "outputs": [
        {
          "output_type": "stream",
          "name": "stdout",
          "text": [
            "Testing is_number_palindrome function:\n",
            "Input: 121, Expected: True, Got: True\n",
            "Input: 123, Expected: False, Got: False\n",
            "Input: 0, Expected: True, Got: True\n",
            "Input: -121, Expected: False, Got: False\n",
            "Input: 1221, Expected: True, Got: True\n",
            "Input: 12321, Expected: True, Got: True\n",
            "Input: 10, Expected: False, Got: False\n",
            "Input: 1, Expected: True, Got: True\n",
            "Input: -1, Expected: False, Got: False\n",
            "Input: 1001, Expected: True, Got: True\n",
            "Input: 123454321, Expected: True, Got: True\n",
            "Input: 123456789, Expected: False, Got: False\n"
          ]
        }
      ]
    }
  ]
}