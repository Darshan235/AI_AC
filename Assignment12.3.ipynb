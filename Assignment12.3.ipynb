{
  "nbformat": 4,
  "nbformat_minor": 0,
  "metadata": {
    "colab": {
      "provenance": [],
      "authorship_tag": "ABX9TyMcl8nAN5y2QCic/dMl+szY",
      "include_colab_link": true
    },
    "kernelspec": {
      "name": "python3",
      "display_name": "Python 3"
    },
    "language_info": {
      "name": "python"
    }
  },
  "cells": [
    {
      "cell_type": "markdown",
      "metadata": {
        "id": "view-in-github",
        "colab_type": "text"
      },
      "source": [
        "<a href=\"https://colab.research.google.com/github/Darshan235/AI_AC/blob/main/Assignment12.3.ipynb\" target=\"_parent\"><img src=\"https://colab.research.google.com/assets/colab-badge.svg\" alt=\"Open In Colab\"/></a>"
      ]
    },
    {
      "cell_type": "markdown",
      "source": [
        "#Task 1"
      ],
      "metadata": {
        "id": "SsC0crcdyHSH"
      }
    },
    {
      "cell_type": "code",
      "execution_count": 2,
      "metadata": {
        "colab": {
          "base_uri": "https://localhost:8080/"
        },
        "id": "Nm3h3WY_x54u",
        "outputId": "674d427d-9e23-4166-8614-4e9f959c8cbe"
      },
      "outputs": [
        {
          "output_type": "stream",
          "name": "stdout",
          "text": [
            "Enter the list of numbers separated by spaces: 1 2 3 2 42 21\n",
            "Enter the value to search for: 21\n",
            "Value 21 found at index 5\n"
          ]
        }
      ],
      "source": [
        "def linear_search(input_list, value_to_find):\n",
        "  \"\"\"\n",
        "  Performs a linear search to find the index of a value in a list.\n",
        "\n",
        "  Args:\n",
        "    input_list: The list to search within.\n",
        "    value_to_find: The value to search for.\n",
        "\n",
        "  Returns:\n",
        "    The index of the value if found, otherwise -1.\n",
        "  \"\"\"\n",
        "  for index, item in enumerate(input_list):\n",
        "    if item == value_to_find:\n",
        "      return index\n",
        "  return -1\n",
        "\n",
        "# Get input from the user\n",
        "list_input = input(\"Enter the list of numbers separated by spaces: \")\n",
        "my_list = [int(x) for x in list_input.split()]\n",
        "\n",
        "value = int(input(\"Enter the value to search for: \"))\n",
        "\n",
        "index = linear_search(my_list, value)\n",
        "\n",
        "if index != -1:\n",
        "  print(f\"Value {value} found at index {index}\")\n",
        "else:\n",
        "  print(f\"Value {value} not found in the list\")"
      ]
    },
    {
      "cell_type": "markdown",
      "source": [
        "#Task 2\n"
      ],
      "metadata": {
        "id": "1fnsY3aPylJc"
      }
    },
    {
      "cell_type": "code",
      "metadata": {
        "id": "2364e12b"
      },
      "source": [
        "def bubble_sort(input_list):\n",
        "  \"\"\"\n",
        "  Sorts a list using the Bubble Sort algorithm.\n",
        "\n",
        "  Args:\n",
        "    input_list: The list to be sorted.\n",
        "\n",
        "  Returns:\n",
        "    The sorted list.\n",
        "  \"\"\"\n",
        "  n = len(input_list)\n",
        "  for i in range(n):\n",
        "    # Last i elements are already in place\n",
        "    for j in range(0, n - i - 1):\n",
        "      # Traverse the list from 0 to n-i-1\n",
        "      # Swap if the element found is greater than the next element\n",
        "      if input_list[j] > input_list[j + 1]:\n",
        "        input_list[j], input_list[j + 1] = input_list[j + 1], input_list[j]\n",
        "  return input_list"
      ],
      "execution_count": 5,
      "outputs": []
    },
    {
      "cell_type": "code",
      "metadata": {
        "colab": {
          "base_uri": "https://localhost:8080/"
        },
        "id": "16dfe71d",
        "outputId": "c82b9eae-74db-4bda-9286-8fef9106408d"
      },
      "source": [
        "# Get input from the user\n",
        "list_input = input(\"Enter the list of numbers separated by spaces to sort: \")\n",
        "my_list_to_sort = [int(x) for x in list_input.split()]\n",
        "print(\"Original list:\", my_list_to_sort)\n",
        "\n",
        "sorted_list = bubble_sort(my_list_to_sort)\n",
        "\n",
        "print(\"Sorted list:\", sorted_list)"
      ],
      "execution_count": 7,
      "outputs": [
        {
          "output_type": "stream",
          "name": "stdout",
          "text": [
            "Enter the list of numbers separated by spaces to sort: 1 12 322 12\n",
            "Original list: [1, 12, 322, 12]\n",
            "Sorted list: [1, 12, 12, 322]\n"
          ]
        }
      ]
    },
    {
      "cell_type": "markdown",
      "source": [
        "#Task 3\n"
      ],
      "metadata": {
        "id": "THlMtAUJzSDz"
      }
    },
    {
      "cell_type": "code",
      "metadata": {
        "colab": {
          "base_uri": "https://localhost:8080/"
        },
        "id": "74ca07cb",
        "outputId": "16c7950f-8281-4eca-fbf9-fd64b3606913"
      },
      "source": [
        "# Print the optimal number of units of A and B\n",
        "print(\"Optimal number of units of A:\", A.varValue)\n",
        "print(\"Optimal number of units of B:\", B.varValue)\n",
        "\n",
        "# Print the maximum profit\n",
        "print(\"Maximum Profit:\", value(prob.objective))"
      ],
      "execution_count": 13,
      "outputs": [
        {
          "output_type": "stream",
          "name": "stdout",
          "text": [
            "Optimal number of units of A: 2.0\n",
            "Optimal number of units of B: 3.0\n",
            "Maximum Profit: 27.0\n"
          ]
        }
      ]
    },
    {
      "cell_type": "code",
      "metadata": {
        "colab": {
          "base_uri": "https://localhost:8080/"
        },
        "id": "89cf5d02",
        "outputId": "7b803bf6-ebde-4d58-f068-2b5f8ab7c06c"
      },
      "source": [
        "# Solve the problem\n",
        "prob.solve()\n",
        "\n",
        "# Print the status of the solution\n",
        "print(\"Status:\", LpStatus[prob.status])"
      ],
      "execution_count": 12,
      "outputs": [
        {
          "output_type": "stream",
          "name": "stdout",
          "text": [
            "Status: Optimal\n"
          ]
        }
      ]
    },
    {
      "cell_type": "code",
      "metadata": {
        "id": "9b9f8674"
      },
      "source": [
        "# Define constraints based on resource availability\n",
        "\n",
        "# Milk constraint\n",
        "prob += 1 * A + 1 * B <= 5, \"Milk Constraint\"\n",
        "\n",
        "# Choco constraint\n",
        "prob += 3 * A + 2 * B <= 12, \"Choco Constraint\""
      ],
      "execution_count": 11,
      "outputs": []
    },
    {
      "cell_type": "markdown",
      "source": [
        "#Task 4\n"
      ],
      "metadata": {
        "id": "zdvt9SOd1Ii4"
      }
    },
    {
      "cell_type": "code",
      "metadata": {
        "colab": {
          "base_uri": "https://localhost:8080/"
        },
        "id": "fd846f34",
        "outputId": "91b6fa0e-a23f-4cd9-f254-c2ee77583404"
      },
      "source": [
        "from sympy import symbols, diff\n",
        "\n",
        "# Define the variable x\n",
        "x = symbols('x')\n",
        "\n",
        "# Define the function f(x)\n",
        "f = 2*x**3 + 4*x + 5\n",
        "\n",
        "# Calculate the first derivative of f(x) with respect to x\n",
        "f_prime = diff(f, x)\n",
        "\n",
        "print(f_prime)"
      ],
      "execution_count": 14,
      "outputs": [
        {
          "output_type": "stream",
          "name": "stdout",
          "text": [
            "6*x**2 + 4\n"
          ]
        }
      ]
    },
    {
      "cell_type": "code",
      "metadata": {
        "colab": {
          "base_uri": "https://localhost:8080/"
        },
        "id": "b8f5a7a0",
        "outputId": "dfdee398-f844-4cf5-9dac-2e0278524eb0"
      },
      "source": [
        "from sympy import symbols, diff, solve, I\n",
        "\n",
        "# Define the variable x\n",
        "x = symbols('x')\n",
        "\n",
        "# Define the function f(x)\n",
        "f = 2*x**3 + 4*x + 5\n",
        "\n",
        "# Calculate the first derivative\n",
        "f_prime = diff(f, x)\n",
        "\n",
        "# Find critical points by setting the first derivative to zero\n",
        "critical_points = solve(f_prime, x)\n",
        "\n",
        "print(\"Critical points:\", critical_points)\n",
        "\n",
        "# Calculate the second derivative\n",
        "f_double_prime = diff(f, x, 2)\n",
        "\n",
        "print(\"Second derivative:\", f_double_prime)\n",
        "\n",
        "# Analyze the behavior as x approaches infinity\n",
        "# For f(x) = 2x^3 + 4x + 5, the leading term is 2x^3.\n",
        "# As x -> +inf, 2x^3 -> +inf, so f(x) -> +inf.\n",
        "# As x -> -inf, 2x^3 -> -inf, so f(x) -> -inf.\n",
        "\n",
        "print(\"\\nAnalyzing the behavior of the function:\")\n",
        "print(\"As x approaches positive infinity, f(x) approaches positive infinity.\")\n",
        "print(\"As x approaches negative infinity, f(x) approaches negative infinity.\")\n",
        "\n",
        "# Based on the critical points being complex and the behavior at infinities,\n",
        "# the function does not have a real local or global minimum.\n",
        "print(\"\\nBased on the analysis, the function f(x) = 2x^3 + 4x + 5 does not have a real minimum.\")"
      ],
      "execution_count": 19,
      "outputs": [
        {
          "output_type": "stream",
          "name": "stdout",
          "text": [
            "Critical points: [-sqrt(6)*I/3, sqrt(6)*I/3]\n",
            "Second derivative: 12*x\n",
            "\n",
            "Analyzing the behavior of the function:\n",
            "As x approaches positive infinity, f(x) approaches positive infinity.\n",
            "As x approaches negative infinity, f(x) approaches negative infinity.\n",
            "\n",
            "Based on the analysis, the function f(x) = 2x^3 + 4x + 5 does not have a real minimum.\n"
          ]
        }
      ]
    }
  ]
}