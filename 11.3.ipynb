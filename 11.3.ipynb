{
  "nbformat": 4,
  "nbformat_minor": 0,
  "metadata": {
    "colab": {
      "provenance": [],
      "authorship_tag": "ABX9TyPshkqVT+DBiwrKaBNfMHLP",
      "include_colab_link": true
    },
    "kernelspec": {
      "name": "python3",
      "display_name": "Python 3"
    },
    "language_info": {
      "name": "python"
    }
  },
  "cells": [
    {
      "cell_type": "markdown",
      "metadata": {
        "id": "view-in-github",
        "colab_type": "text"
      },
      "source": [
        "<a href=\"https://colab.research.google.com/github/Darshan235/AI_AC/blob/main/11.3.ipynb\" target=\"_parent\"><img src=\"https://colab.research.google.com/assets/colab-badge.svg\" alt=\"Open In Colab\"/></a>"
      ]
    },
    {
      "cell_type": "markdown",
      "source": [
        "#Task 1"
      ],
      "metadata": {
        "id": "LAhfpnuk5TZl"
      }
    },
    {
      "cell_type": "code",
      "metadata": {
        "colab": {
          "base_uri": "https://localhost:8080/"
        },
        "id": "8a9f57ad",
        "outputId": "d4321e03-6909-4d08-83e9-ecc355236f94"
      },
      "source": [
        "class Stack:\n",
        "    def __init__(self):\n",
        "        self.items = []\n",
        "\n",
        "    def is_empty(self):\n",
        "        \"\"\"Checks if the stack is empty.\"\"\"\n",
        "        return not self.items\n",
        "\n",
        "    def push(self, item):\n",
        "        \"\"\"Adds an item to the top of the stack.\"\"\"\n",
        "        self.items.append(item)\n",
        "\n",
        "    def pop(self):\n",
        "        \"\"\"Removes and returns the item from the top of the stack.\n",
        "        Raises IndexError if the stack is empty.\n",
        "        \"\"\"\n",
        "        if not self.is_empty():\n",
        "            return self.items.pop()\n",
        "        else:\n",
        "            raise IndexError(\"pop from empty stack\")\n",
        "\n",
        "    def peek(self):\n",
        "        \"\"\"Returns the item at the top of the stack without removing it.\n",
        "        Raises IndexError if the stack is empty.\n",
        "        \"\"\"\n",
        "        if not self.is_empty():\n",
        "            return self.items[-1]\n",
        "        else:\n",
        "            raise IndexError(\"peek from empty stack\")\n",
        "\n",
        "# Example usage:\n",
        "stack = Stack()\n",
        "stack.push(1)\n",
        "stack.push(2)\n",
        "print(stack.peek())  # Output: 2\n",
        "print(stack.pop())   # Output: 2\n",
        "print(stack.is_empty()) # Output: False"
      ],
      "execution_count": 2,
      "outputs": [
        {
          "output_type": "stream",
          "name": "stdout",
          "text": [
            "2\n",
            "2\n",
            "False\n"
          ]
        }
      ]
    },
    {
      "cell_type": "markdown",
      "source": [
        "#Task 2"
      ],
      "metadata": {
        "id": "0CsfNoJM5iK2"
      }
    },
    {
      "cell_type": "code",
      "metadata": {
        "colab": {
          "base_uri": "https://localhost:8080/"
        },
        "id": "6635d110",
        "outputId": "4efeacec-f855-4892-f056-7e715647568b"
      },
      "source": [
        "class Queue:\n",
        "    def __init__(self):\n",
        "        self.items = []\n",
        "\n",
        "    def is_empty(self):\n",
        "        \"\"\"Checks if the queue is empty.\"\"\"\n",
        "        return not self.items\n",
        "\n",
        "    def enqueue(self, item):\n",
        "        \"\"\"Adds an item to the rear of the queue.\"\"\"\n",
        "        self.items.append(item)\n",
        "\n",
        "    def dequeue(self):\n",
        "        \"\"\"Removes and returns the item from the front of the queue.\n",
        "        Raises IndexError if the queue is empty.\n",
        "        \"\"\"\n",
        "        if not self.is_empty():\n",
        "            return self.items.pop(0)  # Removing from the front (index 0)\n",
        "        else:\n",
        "            raise IndexError(\"dequeue from empty queue\")\n",
        "\n",
        "# Example usage:\n",
        "queue = Queue()\n",
        "queue.enqueue(1)\n",
        "queue.enqueue(2)\n",
        "print(queue.dequeue())  # Output: 1\n",
        "print(queue.is_empty()) # Output: False"
      ],
      "execution_count": 3,
      "outputs": [
        {
          "output_type": "stream",
          "name": "stdout",
          "text": [
            "1\n",
            "False\n"
          ]
        }
      ]
    },
    {
      "cell_type": "markdown",
      "source": [
        "#Task 3"
      ],
      "metadata": {
        "id": "kXKTVrZo5-Nd"
      }
    },
    {
      "cell_type": "code",
      "metadata": {
        "colab": {
          "base_uri": "https://localhost:8080/"
        },
        "id": "e2b9db23",
        "outputId": "801f6aa9-7bbf-4286-cb34-07b88105b2c2"
      },
      "source": [
        "class Node:\n",
        "    \"\"\"Represents a node in a singly linked list.\"\"\"\n",
        "    def __init__(self, data=None):\n",
        "        self.data = data\n",
        "        self.next = None\n",
        "\n",
        "class LinkedList:\n",
        "    \"\"\"Represents a singly linked list.\"\"\"\n",
        "    def __init__(self):\n",
        "        self.head = None\n",
        "\n",
        "    def insert_at_beginning(self, data):\n",
        "        \"\"\"Inserts a new node at the beginning of the linked list.\"\"\"\n",
        "        new_node = Node(data)\n",
        "        new_node.next = self.head\n",
        "        self.head = new_node\n",
        "\n",
        "    def insert_at_end(self, data):\n",
        "        \"\"\"Inserts a new node at the end of the linked list.\"\"\"\n",
        "        new_node = Node(data)\n",
        "        if self.head is None:\n",
        "            self.head = new_node\n",
        "            return\n",
        "\n",
        "        last_node = self.head\n",
        "        while last_node.next:\n",
        "            last_node = last_node.next\n",
        "        last_node.next = new_node\n",
        "\n",
        "    def display(self):\n",
        "        \"\"\"Prints the elements of the linked list.\"\"\"\n",
        "        current = self.head\n",
        "        while current:\n",
        "            print(current.data, end=\" -> \")\n",
        "            current = current.next\n",
        "        print(\"None\")\n",
        "\n",
        "# Example usage:\n",
        "llist = LinkedList()\n",
        "llist.insert_at_beginning(10)\n",
        "llist.insert_at_end(20)\n",
        "llist.insert_at_beginning(5)\n",
        "llist.display()"
      ],
      "execution_count": 9,
      "outputs": [
        {
          "output_type": "stream",
          "name": "stdout",
          "text": [
            "5 -> 10 -> 20 -> None\n"
          ]
        }
      ]
    },
    {
      "cell_type": "markdown",
      "source": [
        "#Task 4\n"
      ],
      "metadata": {
        "id": "04qBEKu_7avV"
      }
    },
    {
      "cell_type": "code",
      "metadata": {
        "colab": {
          "base_uri": "https://localhost:8080/"
        },
        "id": "6ca7ba00",
        "outputId": "e5b3e4d4-2d9a-44b6-ca7c-9291be4bb5e8"
      },
      "source": [
        "class Node:\n",
        "    \"\"\"Represents a node in a Binary Search Tree (BST).\"\"\"\n",
        "    def __init__(self, data=None):\n",
        "        self.data = data\n",
        "        self.left = None\n",
        "        self.right = None\n",
        "\n",
        "class BST:\n",
        "    \"\"\"Represents a Binary Search Tree (BST).\"\"\"\n",
        "    def __init__(self):\n",
        "        self.root = None\n",
        "\n",
        "    def insert(self, data):\n",
        "        \"\"\"Inserts a new node with the given data into the BST.\"\"\"\n",
        "        if self.root is None:\n",
        "            self.root = Node(data)\n",
        "        else:\n",
        "            self._insert_recursive(self.root, data)\n",
        "\n",
        "    def _insert_recursive(self, current_node, data):\n",
        "        \"\"\"Helper function for recursive insertion.\"\"\"\n",
        "        if data < current_node.data:\n",
        "            if current_node.left is None:\n",
        "                current_node.left = Node(data)\n",
        "            else:\n",
        "                self._insert_recursive(current_node.left, data)\n",
        "        elif data > current_node.data:\n",
        "            if current_node.right is None:\n",
        "                current_node.right = Node(data)\n",
        "            else:\n",
        "                self._insert_recursive(current_node.right, data)\n",
        "        # If data is equal, do nothing (no duplicates allowed in this simple BST)\n",
        "\n",
        "    def inorder_traversal(self):\n",
        "        \"\"\"Performs an in-order traversal of the BST and returns a list of the data.\"\"\"\n",
        "        result = []\n",
        "        self._inorder_recursive(self.root, result)\n",
        "        return result\n",
        "\n",
        "    def _inorder_recursive(self, current_node, result):\n",
        "        \"\"\"Helper function for recursive in-order traversal.\"\"\"\n",
        "        if current_node:\n",
        "            self._inorder_recursive(current_node.left, result)\n",
        "            result.append(current_node.data)\n",
        "            self._inorder_recursive(current_node.right, result)\n",
        "\n",
        "# Example usage:\n",
        "bst = BST()\n",
        "bst.insert(10)\n",
        "bst.insert(5)\n",
        "bst.insert(15)\n",
        "bst.insert(2)\n",
        "bst.insert(7)\n",
        "print(bst.inorder_traversal()) # Output: [2, 5, 7, 10, 15]"
      ],
      "execution_count": 13,
      "outputs": [
        {
          "output_type": "stream",
          "name": "stdout",
          "text": [
            "[2, 5, 7, 10, 15]\n"
          ]
        }
      ]
    }
  ]
}